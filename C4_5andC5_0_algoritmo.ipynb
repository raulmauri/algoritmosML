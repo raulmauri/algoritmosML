{
  "nbformat": 4,
  "nbformat_minor": 0,
  "metadata": {
    "colab": {
      "provenance": []
    },
    "kernelspec": {
      "name": "python3",
      "display_name": "Python 3"
    },
    "language_info": {
      "name": "python"
    }
  },
  "cells": [
    {
      "cell_type": "markdown",
      "source": [
        "# C4.5 y C5.0"
      ],
      "metadata": {
        "id": "7WI_9pDly2cV"
      }
    },
    {
      "cell_type": "markdown",
      "source": [
        "# Descripción"
      ],
      "metadata": {
        "id": "LY5HEdJKfhi9"
      }
    },
    {
      "cell_type": "markdown",
      "source": [
        "Prompt ChatGPT: *describame el algoritmo c4.5 and c5.0*"
      ],
      "metadata": {
        "id": "7AQD1D7EyDZ8"
      }
    },
    {
      "cell_type": "markdown",
      "source": [
        "C4.5 y C5.0 son dos algoritmos de aprendizaje automático desarrollados por Ross Quinlan para la construcción de árboles de decisión, que son modelos utilizados para la clasificación y la toma de decisiones basadas en reglas. Estos algoritmos son ampliamente utilizados en la minería de datos y la inteligencia artificial debido a su eficacia y facilidad de interpretación. A continuación, te proporcionaré una descripción más detallada de C4.5 y C5.0:\n",
        "\n",
        "C4.5:\n",
        "\n",
        "1. Selección de atributos: C4.5 comienza seleccionando el atributo que mejor divide el conjunto de datos de entrenamiento en clases distintas. Utiliza una métrica llamada \"ganancia de información\" (information gain) o su versión normalizada, la \"proporción de ganancia\" (gain ratio), para evaluar la importancia de cada atributo en la división de datos.\n",
        "\n",
        "2. División de nodos: Una vez seleccionado el atributo, C4.5 divide el conjunto de datos en subconjuntos basados en los valores de ese atributo. Este proceso se repite recursivamente para construir un árbol de decisión completo.\n",
        "\n",
        "3. Manejo de valores faltantes: C4.5 puede manejar valores faltantes en los datos mediante técnicas como la imputación de valores o la asignación de probabilidades basadas en la distribución de los valores observados.\n",
        "\n",
        "4. Poda del árbol: Después de construir el árbol, C4.5 realiza una poda para evitar el sobreajuste (overfitting). Esto implica eliminar ramas del árbol que no mejoran significativamente la precisión de la clasificación en datos de prueba.\n",
        "\n",
        "5. Reglas de decisión: Además de generar árboles de decisión, C4.5 puede convertir estos árboles en reglas de decisión más legibles y comprensibles.\n",
        "\n",
        "C5.0 (o C5):\n",
        "\n",
        "C5.0 es una versión mejorada de C4.5 y presenta varias mejoras y características adicionales:\n",
        "\n",
        "1. Manejo de atributos numéricos y categóricos: C5.0 puede manejar directamente atributos numéricos y categóricos sin requerir discretización previa. Utiliza técnicas como la búsqueda de umbrales óptimos para atributos numéricos.\n",
        "\n",
        "2. Mayor eficiencia: C5.0 suele ser más eficiente en términos de tiempo de procesamiento que C4.5, lo que lo hace adecuado para conjuntos de datos más grandes.\n",
        "\n",
        "3. Mayor precisión: C5.0 tiende a generar modelos más precisos en comparación con C4.5 en muchos casos debido a sus mejoras en la selección de atributos y otras técnicas de optimización.\n",
        "\n",
        "4. Control de complejidad: C5.0 proporciona opciones para controlar la complejidad del árbol de decisión generado, lo que es útil para evitar sobreajuste.\n",
        "\n",
        "5. Manejo de datos desequilibrados: C5.0 incluye mejoras en el manejo de conjuntos de datos desequilibrados, donde una clase tiene muchas más instancias que otras.\n",
        "\n",
        "En resumen, C4.5 y C5.0 son algoritmos de aprendizaje automático utilizados para construir árboles de decisión. C5.0 es una versión mejorada de C4.5 con características adicionales y mejoras en la eficiencia y precisión. Ambos algoritmos son ampliamente utilizados en tareas de clasificación y regresión en campos como la minería de datos, la inteligencia artificial y la toma de decisiones automatizada."
      ],
      "metadata": {
        "id": "aVtTEH1wdxaB"
      }
    },
    {
      "cell_type": "markdown",
      "source": [],
      "metadata": {
        "id": "fDI-6u8hklc8"
      }
    },
    {
      "cell_type": "markdown",
      "source": [
        "# Bibtex y Referencias"
      ],
      "metadata": {
        "id": "lFA-FOagcmoi"
      }
    },
    {
      "cell_type": "markdown",
      "source": [
        "# Luego, se encontró CART en 1984,"
      ],
      "metadata": {
        "id": "uYtkTLrjTbIP"
      }
    },
    {
      "cell_type": "markdown",
      "source": [
        "Paper: https://ieeexplore.ieee.org/document/8726664\n",
        "\n",
        "Junmei Guo and Haiying Liu and Yizhong Luan and Yun Wu\n",
        "\n",
        "@article{Guo2018ApplicationOB,\n",
        "  title={Application of Birth Defect Prediction Model Based on C5.0 Decision Tree Algorithm},\n",
        "  author={Junmei Guo and Haiying Liu and Yizhong Luan and Yun Wu},\n",
        "  journal={2018 IEEE International Conference on Internet of Things (iThings) and IEEE Green Computing and Communications (GreenCom) and IEEE Cyber, Physical and Social Computing (CPSCom) and IEEE Smart Data (SmartData)},\n",
        "  year={2018},\n",
        "  pages={1867-1871},\n",
        "  url={https://api.semanticscholar.org/CorpusID:174801818}\n",
        "}"
      ],
      "metadata": {
        "id": "gbYMk6pTeOi9"
      }
    },
    {
      "cell_type": "markdown",
      "source": [
        "##Tipo de modelo"
      ],
      "metadata": {
        "id": "_Q6pzdvfbgyF"
      }
    },
    {
      "cell_type": "markdown",
      "source": [
        "**Segun el Tipo de aprendizaje:**\n",
        "\n",
        " *Supervisado*\n",
        "\n",
        "**Segun la Asuncion y parametros en entrenamiento:**\n",
        "\n",
        "*No parametrico*\n",
        "\n",
        "**Segun el Tipo de datos al entranar:**\n",
        "\n",
        "*Offline (batches)*\n",
        "\n",
        "**Resultado de entrenamiento:**\n",
        "\n",
        "*Basado en instancia*"
      ],
      "metadata": {
        "id": "e-Vyp3KMcLk_"
      }
    },
    {
      "cell_type": "markdown",
      "source": [
        "# Algoritmos de entrenamiento"
      ],
      "metadata": {
        "id": "1dd_2UrLcLqU"
      }
    },
    {
      "cell_type": "markdown",
      "source": [
        "Prompt ChatGPT: *describe el algoritmo c4.5 and c5.0 **"
      ],
      "metadata": {
        "id": "nLCWN-b4k_B0"
      }
    },
    {
      "cell_type": "markdown",
      "source": [
        "\n",
        "C4.5 y C5.0 son algoritmos de aprendizaje automático utilizados para la construcción de árboles de decisión, que son modelos utilizados en tareas de clasificación y regresión. Fueron desarrollados por Ross Quinlan y representan versiones mejoradas de algoritmos anteriores como ID3. A continuación, describo estos algoritmos en detalle:\n",
        "\n",
        "C4.5 (Classification and Regression Trees 4.5):\n",
        "\n",
        "1. Selección de Atributos: C4.5 comienza seleccionando el atributo que mejor divide el conjunto de datos de entrenamiento en clases distintas. Utiliza una métrica llamada \"ganancia de información\" (information gain) para evaluar la importancia de cada atributo en la división de datos. La ganancia de información mide cuánta incertidumbre se reduce en la clasificación de ejemplos cuando se utiliza un atributo específico para dividir los datos.\n",
        "\n",
        "2. División de Nodos: Una vez seleccionado el atributo, C4.5 divide el conjunto de datos en subconjuntos basados en los valores de ese atributo. Este proceso se repite de manera recursiva para construir un árbol de decisión completo.\n",
        "\n",
        "3. Manejo de Valores Faltantes: C4.5 puede manejar valores faltantes en los datos mediante técnicas como la imputación de valores o la asignación de probabilidades basadas en la distribución de los valores observados.\n",
        "\n",
        "4. Poda del Árbol: Después de construir el árbol, C4.5 realiza una poda para evitar el sobreajuste (overfitting). Esto implica eliminar ramas del árbol que no mejoran significativamente la precisión de la clasificación en datos de prueba.\n",
        "\n",
        "5. Reglas de Decisión: Además de generar árboles de decisión, C4.5 puede convertir estos árboles en reglas de decisión más legibles y comprensibles.\n",
        "\n",
        "C5.0 (C5):\n",
        "\n",
        "C5.0 es una versión mejorada de C4.5 y presenta varias mejoras y características adicionales:\n",
        "\n",
        "1. Manejo de Atributos Numéricos y Categóricos: C5.0 puede manejar directamente atributos numéricos y categóricos sin requerir discretización previa. Utiliza técnicas como la búsqueda de umbrales óptimos para atributos numéricos.\n",
        "\n",
        "2. Mayor Eficiencia: C5.0 suele ser más eficiente en términos de tiempo de procesamiento que C4.5, lo que lo hace adecuado para conjuntos de datos más grandes.\n",
        "\n",
        "3. Mayor Precisión: C5.0 tiende a generar modelos más precisos en comparación con C4.5 en muchos casos debido a sus mejoras en la selección de atributos y otras técnicas de optimización.\n",
        "\n",
        "4. Control de Complejidad: C5.0 proporciona opciones para controlar la complejidad del árbol de decisión generado, lo que es útil para evitar el sobreajuste.\n",
        "\n",
        "5. Manejo de Datos Desequilibrados: C5.0 incluye mejoras en el manejo de conjuntos de datos desequilibrados, donde una clase tiene muchas más instancias que otras.\n",
        "\n",
        "En resumen, C4.5 y C5.0 son algoritmos de construcción de árboles de decisión utilizados en tareas de clasificación y regresión en aprendizaje automático. C5.0 es una versión mejorada de C4.5 con características adicionales y mejoras en eficiencia y precisión. Ambos algoritmos son ampliamente utilizados en campos como la minería de datos, la inteligencia artificial y la toma de decisiones automatizada."
      ],
      "metadata": {
        "id": "iC-b8mg2jkHs"
      }
    },
    {
      "cell_type": "markdown",
      "source": [
        "## Supuestos y Restricciones"
      ],
      "metadata": {
        "id": "KpFoO6zjkals"
      }
    },
    {
      "cell_type": "markdown",
      "source": [],
      "metadata": {
        "id": "akyYcdhKfw9u"
      }
    },
    {
      "cell_type": "markdown",
      "source": [
        "Prompt ChatGPT: *dame los supuestos y restricciones para  el algoritmo c4.5 and c5.0*"
      ],
      "metadata": {
        "id": "IlH0wThLxxic"
      }
    },
    {
      "cell_type": "markdown",
      "source": [
        "Los algoritmos C4.5 y C5.0, como otros algoritmos de construcción de árboles de decisión, operan bajo ciertos supuestos y restricciones que afectan su funcionamiento y su aplicabilidad. A continuación, se presentan algunos de los supuestos y restricciones clave para estos algoritmos:\n",
        "\n",
        "Supuestos:\n",
        "\n",
        "1. Independencia de atributos: Estos algoritmos asumen que los atributos utilizados para construir el árbol de decisión son independientes entre sí. Esto significa que no tienen en cuenta relaciones de dependencia o interacciones entre atributos en su proceso de construcción.\n",
        "\n",
        "2. Categorización de datos: Los algoritmos C4.5 y C5.0 funcionan mejor con datos que se pueden categorizar en clases discretas. Aunque pueden manejar atributos numéricos, generalmente requieren que se realice una discretización previa para convertirlos en valores categóricos.\n",
        "\n",
        "3. Datos limpios: Los algoritmos asumen que los datos de entrenamiento están limpios y no contienen errores significativos. Datos con valores faltantes o ruidos pueden requerir preprocesamiento adicional.\n",
        "\n",
        "Restricciones:\n",
        "\n",
        "1. Complejidad del árbol: Para evitar el sobreajuste, los árboles de decisión generados por C4.5 y C5.0 pueden ser podados durante o después de su construcción. Esto impone una restricción en la complejidad del árbol para evitar que se vuelva demasiado profundo y se adapte excesivamente a los datos de entrenamiento.\n",
        "\n",
        "2. Modelos locales: Aunque los árboles de decisión pueden ser poderosos, tienden a ser modelos locales en el sentido de que dividen el espacio de características en regiones locales. No siempre son ideales para capturar relaciones globales complejas en los datos.\n",
        "\n",
        "3. Eficiencia computacional: Si bien C5.0 se ha mejorado en términos de eficiencia en comparación con C4.5, construir árboles de decisión puede ser computacionalmente costoso para conjuntos de datos grandes y con muchos atributos. Esto puede limitar su aplicabilidad en algunas situaciones.\n",
        "\n",
        "4. Sesgo hacia atributos con alta cardinalidad: Los algoritmos C4.5 y C5.0 pueden tener un sesgo hacia atributos con alta cardinalidad (muchas categorías) al calcular la ganancia de información. Esto puede llevar a la selección excesiva de atributos con muchas categorías, lo que a veces no es deseable.\n",
        "\n",
        "5. Dificultad con clases desequilibradas: Si el conjunto de datos de entrenamiento tiene clases desequilibradas (una clase tiene muchas más instancias que otras), los árboles de decisión pueden tener dificultades para capturar la clase minoritaria.\n",
        "\n",
        "Es importante comprender estos supuestos y restricciones al aplicar los algoritmos C4.5 y C5.0 en problemas específicos. En algunos casos, puede ser necesario preprocesar los datos o considerar otros tipos de modelos si estos supuestos y restricciones no se cumplen adecuadamente."
      ],
      "metadata": {
        "id": "EyOIEZ9skett"
      }
    },
    {
      "cell_type": "markdown",
      "source": [
        "## Ejemplo en python"
      ],
      "metadata": {
        "id": "Q9i7DEJRsock"
      }
    },
    {
      "cell_type": "code",
      "source": [
        "! pip install chefboost\n"
      ],
      "metadata": {
        "colab": {
          "base_uri": "https://localhost:8080/"
        },
        "id": "vDfVSQ5WE9qw",
        "outputId": "064c8a75-de09-4981-d333-fd0ab5a0ac99"
      },
      "execution_count": null,
      "outputs": [
        {
          "output_type": "stream",
          "name": "stdout",
          "text": [
            "Requirement already satisfied: chefboost in /usr/local/lib/python3.10/dist-packages (0.0.17)\n",
            "Requirement already satisfied: pandas>=0.22.0 in /usr/local/lib/python3.10/dist-packages (from chefboost) (1.5.3)\n",
            "Requirement already satisfied: numpy>=1.14.0 in /usr/local/lib/python3.10/dist-packages (from chefboost) (1.23.5)\n",
            "Requirement already satisfied: tqdm>=4.30.0 in /usr/local/lib/python3.10/dist-packages (from chefboost) (4.66.1)\n",
            "Requirement already satisfied: psutil>=5.4.3 in /usr/local/lib/python3.10/dist-packages (from chefboost) (5.9.5)\n",
            "Requirement already satisfied: python-dateutil>=2.8.1 in /usr/local/lib/python3.10/dist-packages (from pandas>=0.22.0->chefboost) (2.8.2)\n",
            "Requirement already satisfied: pytz>=2020.1 in /usr/local/lib/python3.10/dist-packages (from pandas>=0.22.0->chefboost) (2023.3)\n",
            "Requirement already satisfied: six>=1.5 in /usr/local/lib/python3.10/dist-packages (from python-dateutil>=2.8.1->pandas>=0.22.0->chefboost) (1.16.0)\n"
          ]
        }
      ]
    },
    {
      "cell_type": "code",
      "source": [
        "from chefboost import Chefboost as chef\n",
        "import pandas as pd"
      ],
      "metadata": {
        "id": "PBvnMsd3YICH"
      },
      "execution_count": null,
      "outputs": []
    },
    {
      "cell_type": "code",
      "source": [
        "df = pd.read_csv(\"golf2.txt\")"
      ],
      "metadata": {
        "id": "qyzzI29BD0sQ"
      },
      "execution_count": null,
      "outputs": []
    },
    {
      "cell_type": "code",
      "source": [
        "df.head()"
      ],
      "metadata": {
        "colab": {
          "base_uri": "https://localhost:8080/",
          "height": 206
        },
        "id": "SusJ-wbQEKZX",
        "outputId": "5ed0dcf7-320d-4e91-f755-6a9677f962d4"
      },
      "execution_count": null,
      "outputs": [
        {
          "output_type": "execute_result",
          "data": {
            "text/plain": [
              "    Outlook  Temperature  Humidity    Wind Decision\n",
              "0     Sunny           85        85    Weak       No\n",
              "1     Sunny           80        90  Strong       No\n",
              "2  Overcast           83        78    Weak      Yes\n",
              "3      Rain           70        96    Weak      Yes\n",
              "4      Rain           68        80    Weak      Yes"
            ],
            "text/html": [
              "\n",
              "  <div id=\"df-6cb95449-d30d-4e02-8894-59e08bdeba72\" class=\"colab-df-container\">\n",
              "    <div>\n",
              "<style scoped>\n",
              "    .dataframe tbody tr th:only-of-type {\n",
              "        vertical-align: middle;\n",
              "    }\n",
              "\n",
              "    .dataframe tbody tr th {\n",
              "        vertical-align: top;\n",
              "    }\n",
              "\n",
              "    .dataframe thead th {\n",
              "        text-align: right;\n",
              "    }\n",
              "</style>\n",
              "<table border=\"1\" class=\"dataframe\">\n",
              "  <thead>\n",
              "    <tr style=\"text-align: right;\">\n",
              "      <th></th>\n",
              "      <th>Outlook</th>\n",
              "      <th>Temperature</th>\n",
              "      <th>Humidity</th>\n",
              "      <th>Wind</th>\n",
              "      <th>Decision</th>\n",
              "    </tr>\n",
              "  </thead>\n",
              "  <tbody>\n",
              "    <tr>\n",
              "      <th>0</th>\n",
              "      <td>Sunny</td>\n",
              "      <td>85</td>\n",
              "      <td>85</td>\n",
              "      <td>Weak</td>\n",
              "      <td>No</td>\n",
              "    </tr>\n",
              "    <tr>\n",
              "      <th>1</th>\n",
              "      <td>Sunny</td>\n",
              "      <td>80</td>\n",
              "      <td>90</td>\n",
              "      <td>Strong</td>\n",
              "      <td>No</td>\n",
              "    </tr>\n",
              "    <tr>\n",
              "      <th>2</th>\n",
              "      <td>Overcast</td>\n",
              "      <td>83</td>\n",
              "      <td>78</td>\n",
              "      <td>Weak</td>\n",
              "      <td>Yes</td>\n",
              "    </tr>\n",
              "    <tr>\n",
              "      <th>3</th>\n",
              "      <td>Rain</td>\n",
              "      <td>70</td>\n",
              "      <td>96</td>\n",
              "      <td>Weak</td>\n",
              "      <td>Yes</td>\n",
              "    </tr>\n",
              "    <tr>\n",
              "      <th>4</th>\n",
              "      <td>Rain</td>\n",
              "      <td>68</td>\n",
              "      <td>80</td>\n",
              "      <td>Weak</td>\n",
              "      <td>Yes</td>\n",
              "    </tr>\n",
              "  </tbody>\n",
              "</table>\n",
              "</div>\n",
              "    <div class=\"colab-df-buttons\">\n",
              "\n",
              "  <div class=\"colab-df-container\">\n",
              "    <button class=\"colab-df-convert\" onclick=\"convertToInteractive('df-6cb95449-d30d-4e02-8894-59e08bdeba72')\"\n",
              "            title=\"Convert this dataframe to an interactive table.\"\n",
              "            style=\"display:none;\">\n",
              "\n",
              "  <svg xmlns=\"http://www.w3.org/2000/svg\" height=\"24px\" viewBox=\"0 -960 960 960\">\n",
              "    <path d=\"M120-120v-720h720v720H120Zm60-500h600v-160H180v160Zm220 220h160v-160H400v160Zm0 220h160v-160H400v160ZM180-400h160v-160H180v160Zm440 0h160v-160H620v160ZM180-180h160v-160H180v160Zm440 0h160v-160H620v160Z\"/>\n",
              "  </svg>\n",
              "    </button>\n",
              "\n",
              "  <style>\n",
              "    .colab-df-container {\n",
              "      display:flex;\n",
              "      gap: 12px;\n",
              "    }\n",
              "\n",
              "    .colab-df-convert {\n",
              "      background-color: #E8F0FE;\n",
              "      border: none;\n",
              "      border-radius: 50%;\n",
              "      cursor: pointer;\n",
              "      display: none;\n",
              "      fill: #1967D2;\n",
              "      height: 32px;\n",
              "      padding: 0 0 0 0;\n",
              "      width: 32px;\n",
              "    }\n",
              "\n",
              "    .colab-df-convert:hover {\n",
              "      background-color: #E2EBFA;\n",
              "      box-shadow: 0px 1px 2px rgba(60, 64, 67, 0.3), 0px 1px 3px 1px rgba(60, 64, 67, 0.15);\n",
              "      fill: #174EA6;\n",
              "    }\n",
              "\n",
              "    .colab-df-buttons div {\n",
              "      margin-bottom: 4px;\n",
              "    }\n",
              "\n",
              "    [theme=dark] .colab-df-convert {\n",
              "      background-color: #3B4455;\n",
              "      fill: #D2E3FC;\n",
              "    }\n",
              "\n",
              "    [theme=dark] .colab-df-convert:hover {\n",
              "      background-color: #434B5C;\n",
              "      box-shadow: 0px 1px 3px 1px rgba(0, 0, 0, 0.15);\n",
              "      filter: drop-shadow(0px 1px 2px rgba(0, 0, 0, 0.3));\n",
              "      fill: #FFFFFF;\n",
              "    }\n",
              "  </style>\n",
              "\n",
              "    <script>\n",
              "      const buttonEl =\n",
              "        document.querySelector('#df-6cb95449-d30d-4e02-8894-59e08bdeba72 button.colab-df-convert');\n",
              "      buttonEl.style.display =\n",
              "        google.colab.kernel.accessAllowed ? 'block' : 'none';\n",
              "\n",
              "      async function convertToInteractive(key) {\n",
              "        const element = document.querySelector('#df-6cb95449-d30d-4e02-8894-59e08bdeba72');\n",
              "        const dataTable =\n",
              "          await google.colab.kernel.invokeFunction('convertToInteractive',\n",
              "                                                    [key], {});\n",
              "        if (!dataTable) return;\n",
              "\n",
              "        const docLinkHtml = 'Like what you see? Visit the ' +\n",
              "          '<a target=\"_blank\" href=https://colab.research.google.com/notebooks/data_table.ipynb>data table notebook</a>'\n",
              "          + ' to learn more about interactive tables.';\n",
              "        element.innerHTML = '';\n",
              "        dataTable['output_type'] = 'display_data';\n",
              "        await google.colab.output.renderOutput(dataTable, element);\n",
              "        const docLink = document.createElement('div');\n",
              "        docLink.innerHTML = docLinkHtml;\n",
              "        element.appendChild(docLink);\n",
              "      }\n",
              "    </script>\n",
              "  </div>\n",
              "\n",
              "\n",
              "<div id=\"df-baf62cce-45cc-4d05-a558-676f3daf4bdc\">\n",
              "  <button class=\"colab-df-quickchart\" onclick=\"quickchart('df-baf62cce-45cc-4d05-a558-676f3daf4bdc')\"\n",
              "            title=\"Suggest charts.\"\n",
              "            style=\"display:none;\">\n",
              "\n",
              "<svg xmlns=\"http://www.w3.org/2000/svg\" height=\"24px\"viewBox=\"0 0 24 24\"\n",
              "     width=\"24px\">\n",
              "    <g>\n",
              "        <path d=\"M19 3H5c-1.1 0-2 .9-2 2v14c0 1.1.9 2 2 2h14c1.1 0 2-.9 2-2V5c0-1.1-.9-2-2-2zM9 17H7v-7h2v7zm4 0h-2V7h2v10zm4 0h-2v-4h2v4z\"/>\n",
              "    </g>\n",
              "</svg>\n",
              "  </button>\n",
              "\n",
              "<style>\n",
              "  .colab-df-quickchart {\n",
              "      --bg-color: #E8F0FE;\n",
              "      --fill-color: #1967D2;\n",
              "      --hover-bg-color: #E2EBFA;\n",
              "      --hover-fill-color: #174EA6;\n",
              "      --disabled-fill-color: #AAA;\n",
              "      --disabled-bg-color: #DDD;\n",
              "  }\n",
              "\n",
              "  [theme=dark] .colab-df-quickchart {\n",
              "      --bg-color: #3B4455;\n",
              "      --fill-color: #D2E3FC;\n",
              "      --hover-bg-color: #434B5C;\n",
              "      --hover-fill-color: #FFFFFF;\n",
              "      --disabled-bg-color: #3B4455;\n",
              "      --disabled-fill-color: #666;\n",
              "  }\n",
              "\n",
              "  .colab-df-quickchart {\n",
              "    background-color: var(--bg-color);\n",
              "    border: none;\n",
              "    border-radius: 50%;\n",
              "    cursor: pointer;\n",
              "    display: none;\n",
              "    fill: var(--fill-color);\n",
              "    height: 32px;\n",
              "    padding: 0;\n",
              "    width: 32px;\n",
              "  }\n",
              "\n",
              "  .colab-df-quickchart:hover {\n",
              "    background-color: var(--hover-bg-color);\n",
              "    box-shadow: 0 1px 2px rgba(60, 64, 67, 0.3), 0 1px 3px 1px rgba(60, 64, 67, 0.15);\n",
              "    fill: var(--button-hover-fill-color);\n",
              "  }\n",
              "\n",
              "  .colab-df-quickchart-complete:disabled,\n",
              "  .colab-df-quickchart-complete:disabled:hover {\n",
              "    background-color: var(--disabled-bg-color);\n",
              "    fill: var(--disabled-fill-color);\n",
              "    box-shadow: none;\n",
              "  }\n",
              "\n",
              "  .colab-df-spinner {\n",
              "    border: 2px solid var(--fill-color);\n",
              "    border-color: transparent;\n",
              "    border-bottom-color: var(--fill-color);\n",
              "    animation:\n",
              "      spin 1s steps(1) infinite;\n",
              "  }\n",
              "\n",
              "  @keyframes spin {\n",
              "    0% {\n",
              "      border-color: transparent;\n",
              "      border-bottom-color: var(--fill-color);\n",
              "      border-left-color: var(--fill-color);\n",
              "    }\n",
              "    20% {\n",
              "      border-color: transparent;\n",
              "      border-left-color: var(--fill-color);\n",
              "      border-top-color: var(--fill-color);\n",
              "    }\n",
              "    30% {\n",
              "      border-color: transparent;\n",
              "      border-left-color: var(--fill-color);\n",
              "      border-top-color: var(--fill-color);\n",
              "      border-right-color: var(--fill-color);\n",
              "    }\n",
              "    40% {\n",
              "      border-color: transparent;\n",
              "      border-right-color: var(--fill-color);\n",
              "      border-top-color: var(--fill-color);\n",
              "    }\n",
              "    60% {\n",
              "      border-color: transparent;\n",
              "      border-right-color: var(--fill-color);\n",
              "    }\n",
              "    80% {\n",
              "      border-color: transparent;\n",
              "      border-right-color: var(--fill-color);\n",
              "      border-bottom-color: var(--fill-color);\n",
              "    }\n",
              "    90% {\n",
              "      border-color: transparent;\n",
              "      border-bottom-color: var(--fill-color);\n",
              "    }\n",
              "  }\n",
              "</style>\n",
              "\n",
              "  <script>\n",
              "    async function quickchart(key) {\n",
              "      const quickchartButtonEl =\n",
              "        document.querySelector('#' + key + ' button');\n",
              "      quickchartButtonEl.disabled = true;  // To prevent multiple clicks.\n",
              "      quickchartButtonEl.classList.add('colab-df-spinner');\n",
              "      try {\n",
              "        const charts = await google.colab.kernel.invokeFunction(\n",
              "            'suggestCharts', [key], {});\n",
              "      } catch (error) {\n",
              "        console.error('Error during call to suggestCharts:', error);\n",
              "      }\n",
              "      quickchartButtonEl.classList.remove('colab-df-spinner');\n",
              "      quickchartButtonEl.classList.add('colab-df-quickchart-complete');\n",
              "    }\n",
              "    (() => {\n",
              "      let quickchartButtonEl =\n",
              "        document.querySelector('#df-baf62cce-45cc-4d05-a558-676f3daf4bdc button');\n",
              "      quickchartButtonEl.style.display =\n",
              "        google.colab.kernel.accessAllowed ? 'block' : 'none';\n",
              "    })();\n",
              "  </script>\n",
              "</div>\n",
              "    </div>\n",
              "  </div>\n"
            ]
          },
          "metadata": {},
          "execution_count": 56
        }
      ]
    },
    {
      "cell_type": "code",
      "source": [
        "config = {'algorithm': 'C4.5'} #Set algorithm to ID3, C4.5, CART, CHAID or Regression"
      ],
      "metadata": {
        "id": "k3cO9LDnETIY"
      },
      "execution_count": null,
      "outputs": []
    },
    {
      "cell_type": "code",
      "source": [
        "model = chef.fit(df, config=config)"
      ],
      "metadata": {
        "colab": {
          "base_uri": "https://localhost:8080/"
        },
        "id": "Gi8a8yQsEfTA",
        "outputId": "920636b8-e38b-4a22-8c4d-78de39285a89"
      },
      "execution_count": null,
      "outputs": [
        {
          "output_type": "stream",
          "name": "stdout",
          "text": [
            "[INFO]:  1 CPU cores will be allocated in parallel running\n",
            "C4.5  tree is going to be built...\n",
            "-------------------------\n",
            "finished in  1.551722764968872  seconds\n",
            "-------------------------\n",
            "Evaluate  train set\n",
            "-------------------------\n",
            "Accuracy:  100.0 % on  14  instances\n",
            "Labels:  ['No' 'Yes']\n",
            "Confusion matrix:  [[5, 0], [0, 9]]\n",
            "Precision:  100.0 %, Recall:  100.0 %, F1:  100.0 %\n"
          ]
        }
      ]
    },
    {
      "cell_type": "code",
      "source": [
        "model = chef.fit(df.copy(), config)"
      ],
      "metadata": {
        "colab": {
          "base_uri": "https://localhost:8080/"
        },
        "id": "5Xu63uinNYhh",
        "outputId": "7c8455e0-6a7c-4ad5-806b-ab44290c0c06"
      },
      "execution_count": null,
      "outputs": [
        {
          "output_type": "stream",
          "name": "stdout",
          "text": [
            "[INFO]:  1 CPU cores will be allocated in parallel running\n",
            "C4.5  tree is going to be built...\n",
            "-------------------------\n",
            "finished in  1.0590829849243164  seconds\n",
            "-------------------------\n",
            "Evaluate  train set\n",
            "-------------------------\n",
            "Accuracy:  100.0 % on  14  instances\n",
            "Labels:  ['No' 'Yes']\n",
            "Confusion matrix:  [[5, 0], [0, 9]]\n",
            "Precision:  100.0 %, Recall:  100.0 %, F1:  100.0 %\n"
          ]
        }
      ]
    },
    {
      "cell_type": "code",
      "source": [
        "df.iloc[0]"
      ],
      "metadata": {
        "colab": {
          "base_uri": "https://localhost:8080/"
        },
        "id": "wYqJ4NS1H4Hg",
        "outputId": "bb35dc5c-bd1f-4645-cf2a-903f16b2ef9a"
      },
      "execution_count": null,
      "outputs": [
        {
          "output_type": "execute_result",
          "data": {
            "text/plain": [
              "Outlook        Sunny\n",
              "Temperature      >83\n",
              "Humidity          85\n",
              "Wind            Weak\n",
              "Decision          No\n",
              "Name: 0, dtype: object"
            ]
          },
          "metadata": {},
          "execution_count": 60
        }
      ]
    },
    {
      "cell_type": "code",
      "source": [
        "for index, instance in df.iterrows():\n",
        "  prediction = chef.predict(model, instance)\n",
        "  actual = instance['Decision']\n",
        "\n",
        "  if actual == prediction:\n",
        "    classified = True\n",
        "  else:\n",
        "    classified = False\n",
        "    print(\"*\", end='')\n",
        "  print(actual, \" - \", prediction)"
      ],
      "metadata": {
        "colab": {
          "base_uri": "https://localhost:8080/"
        },
        "id": "JlBxoW3-ItvI",
        "outputId": "fa634522-5699-4085-d3ac-33af043be115"
      },
      "execution_count": null,
      "outputs": [
        {
          "output_type": "stream",
          "name": "stdout",
          "text": [
            "No  -  No\n",
            "No  -  No\n",
            "Yes  -  Yes\n",
            "Yes  -  Yes\n",
            "Yes  -  Yes\n",
            "No  -  No\n",
            "Yes  -  Yes\n",
            "No  -  No\n",
            "Yes  -  Yes\n",
            "Yes  -  Yes\n",
            "Yes  -  Yes\n",
            "Yes  -  Yes\n",
            "Yes  -  Yes\n",
            "No  -  No\n"
          ]
        }
      ]
    },
    {
      "cell_type": "markdown",
      "source": [
        "## Otro Ejemplo en python"
      ],
      "metadata": {
        "id": "dJLKUieEYeq2"
      }
    }
  ]
}