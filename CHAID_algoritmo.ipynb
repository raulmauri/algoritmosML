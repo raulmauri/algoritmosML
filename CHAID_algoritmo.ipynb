{
  "nbformat": 4,
  "nbformat_minor": 0,
  "metadata": {
    "colab": {
      "provenance": []
    },
    "kernelspec": {
      "name": "python3",
      "display_name": "Python 3"
    },
    "language_info": {
      "name": "python"
    }
  },
  "cells": [
    {
      "cell_type": "code",
      "source": [],
      "metadata": {
        "id": "flNJTw37eNSr"
      },
      "execution_count": null,
      "outputs": []
    },
    {
      "cell_type": "markdown",
      "source": [
        "# CHAID Chi-squared Automatic Interaction Detection\" (Detección Automática de Interacción Chi-cuadrado)"
      ],
      "metadata": {
        "id": "7WI_9pDly2cV"
      }
    },
    {
      "cell_type": "markdown",
      "source": [
        "# Descripción"
      ],
      "metadata": {
        "id": "LY5HEdJKfhi9"
      }
    },
    {
      "cell_type": "markdown",
      "source": [
        "Prompt ChatGPT: *describe el algoritmo de ML CHAID*"
      ],
      "metadata": {
        "id": "7AQD1D7EyDZ8"
      }
    },
    {
      "cell_type": "markdown",
      "source": [
        "CHAID, que significa \"Chi-squared Automatic Interaction Detection\" (Detección Automática de Interacción Chi-cuadrado), es un algoritmo de aprendizaje automático utilizado para el análisis de árboles de decisión en la minería de datos y estadísticas. El objetivo principal de CHAID es identificar relaciones no lineales entre variables predictoras (variables independientes) y una variable objetivo (variable dependiente categórica) a través de la segmentación recursiva de datos.\n",
        "\n",
        "Aquí hay una descripción general de cómo funciona el algoritmo CHAID:\n",
        "\n",
        "1. Inicialización: El proceso comienza con la selección de la variable objetivo, que debe ser una variable categórica. Luego, se selecciona una variable predictora (también categórica) que se utilizará para dividir el conjunto de datos en subgrupos.\n",
        "\n",
        "2. Prueba de independencia: Se realiza una prueba de independencia chi-cuadrado entre la variable objetivo y la variable predictora seleccionada. Esta prueba evalúa si existe una relación significativa entre las dos variables. Si la prueba de chi-cuadrado indica independencia, no se realiza ninguna división adicional, y el proceso se detiene para ese nodo del árbol.\n",
        "\n",
        "3. División de nodos: Si la prueba de chi-cuadrado indica que las variables no son independientes, se divide el nodo en subnodos correspondientes a las categorías de la variable predictora seleccionada. Esto crea un nuevo nivel en el árbol de decisión.\n",
        "\n",
        "4. Repetición del proceso: El algoritmo repite los pasos 2 y 3 para cada subnodo creado en el paso anterior. Selecciona una nueva variable predictora para dividir los subnodos y realiza las pruebas de chi-cuadrado correspondientes. Este proceso se repite de manera recursiva hasta que se cumplan ciertos criterios de detención, como un tamaño de muestra mínimo en los nodos o la falta de significancia estadística en las pruebas de chi-cuadrado.\n",
        "\n",
        "5. Construcción del árbol completo: Una vez que se han explorado todas las posibles divisiones y se han aplicado los criterios de detención, se obtiene un árbol de decisión completo. Cada nodo en el árbol representa una variable predictora y las relaciones con la variable objetivo.\n",
        "\n",
        "6. Poda del árbol (opcional): Después de construir el árbol completo, es posible aplicar técnicas de poda para eliminar nodos que no son estadísticamente significativos o que no aportan información útil.\n",
        "\n",
        "7. Interpretación del árbol: El árbol de decisión resultante se puede interpretar para comprender las relaciones entre las variables predictoras y la variable objetivo. Esto puede ser útil para tomar decisiones basadas en datos o para identificar patrones en los datos.\n",
        "\n",
        "CHAID es un algoritmo que utiliza pruebas de chi-cuadrado para dividir un conjunto de datos en subgrupos con respecto a una variable objetivo categórica, creando así un árbol de decisión que puede ser útil para la clasificación y la interpretación de datos en situaciones en las que se buscan relaciones no lineales."
      ],
      "metadata": {
        "id": "aVtTEH1wdxaB"
      }
    },
    {
      "cell_type": "markdown",
      "source": [],
      "metadata": {
        "id": "fDI-6u8hklc8"
      }
    },
    {
      "cell_type": "markdown",
      "source": [
        "# Bibtex y Referencias"
      ],
      "metadata": {
        "id": "lFA-FOagcmoi"
      }
    },
    {
      "cell_type": "markdown",
      "source": [
        "CHAID es el algoritmo de árbol de decisión más antiguo de la historia. Fue planteado en 1980 por Gordon V. Kass."
      ],
      "metadata": {
        "id": "uYtkTLrjTbIP"
      }
    },
    {
      "cell_type": "markdown",
      "source": [
        "Paper: https://link.springer.com/chapter/10.1007/978-94-017-2053-3_2\n",
        "\n",
        "\n",
        "@article{Althuwaynee2014ANE,\n",
        "  title={A novel ensemble decision tree-based CHi-squared Automatic Interaction Detection (CHAID) and multivariate logistic regression models in landslide susceptibility mapping},\n",
        "  author={Omar F. Althuwaynee and Biswajeet Pradhan and Hyuck-Jin Park and Jung Hyun Lee},\n",
        "  journal={Landslides},\n",
        "  year={2014},\n",
        "  volume={11},\n",
        "  pages={1063-1078},\n",
        "  url={https://api.semanticscholar.org/CorpusID:140715299}\n",
        "}"
      ],
      "metadata": {
        "id": "gbYMk6pTeOi9"
      }
    },
    {
      "cell_type": "markdown",
      "source": [
        "##Tipo de modelo"
      ],
      "metadata": {
        "id": "_Q6pzdvfbgyF"
      }
    },
    {
      "cell_type": "markdown",
      "source": [
        "**Segun el Tipo de aprendizaje:**\n",
        "\n",
        " *Supervisado*\n",
        "\n",
        "**Segun la Asuncion y parametros en entrenamiento:**\n",
        "\n",
        "*No parametrico*\n",
        "\n",
        "**Segun el Tipo de datos al entranar:**\n",
        "\n",
        "*Offline (batches)*\n",
        "\n",
        "**Resultado de entrenamiento:**\n",
        "\n",
        "*Basado en instancia*"
      ],
      "metadata": {
        "id": "e-Vyp3KMcLk_"
      }
    },
    {
      "cell_type": "markdown",
      "source": [
        "# Algoritmos de entrenamiento"
      ],
      "metadata": {
        "id": "1dd_2UrLcLqU"
      }
    },
    {
      "cell_type": "markdown",
      "source": [
        "Prompt ChatGPT: *describe el algoritmo CHAID**"
      ],
      "metadata": {
        "id": "nLCWN-b4k_B0"
      }
    },
    {
      "cell_type": "markdown",
      "source": [
        "\n",
        "\n",
        "**Algoritmo  CHAID (Chi-squared Automatic Interaction Detection):**\n",
        "\n",
        "1. **Selección de la variable objetivo:**\n",
        "> El primer paso en el algoritmo CHAID es seleccionar una variable objetivo (también conocida como variable dependiente) que se desea analizar o predecir. Esta variable objetivo debe ser categórica o numérica discretizada en categorías.\n",
        "\n",
        "\n",
        "\n",
        "2. **Selección de las variables predictoras:**\n",
        "   Luego, se eligen las variables predictoras (variables independientes) que se utilizarán para dividir los datos y analizar su relación con la variable objetivo. Estas variables también deben ser categóricas o numéricas discretizadas en categorías.\n",
        "\n",
        "3. **División de los datos:**\n",
        "   El algoritmo CHAID comienza dividiendo el conjunto de datos en subconjuntos en función de una de las variables predictoras seleccionadas. La división se realiza de manera que maximice la diferencia en la distribución de la variable objetivo entre los subconjuntos. La medida de la diferencia se basa en la prueba de independencia chi-cuadrado.\n",
        "\n",
        "4. **Prueba de independencia chi-cuadrado:**\n",
        "   Para cada división, se realiza una prueba de independencia chi-cuadrado entre la variable objetivo y la variable predictora seleccionada. La prueba evalúa si existe una relación estadísticamente significativa entre estas dos variables. Si la prueba indica independencia, la división no continúa, y se considera una hoja del árbol.\n",
        "\n",
        "5. **Selección de la mejor división::**\n",
        "   Se repiten las divisiones para todas las variables predictoras y se selecciona aquella que produzca la mayor diferencia estadísticamente significativa en la variable objetivo (según la prueba chi-cuadrado). Esta variable se utiliza para dividir los datos y crear un nodo en el árbol de decisión.\n",
        "\n",
        "6. **Recursividad:**\n",
        "   El proceso de división y selección de la mejor variable se repite en cada nodo del árbol hasta que se cumplan ciertos criterios de detención, como un valor mínimo para la prueba chi-cuadrado o la profundidad máxima del árbol.\n",
        "\n",
        "7. **Construcción del árbol completo:**\n",
        "   Una vez que se ha explorado y dividido el conjunto de datos, se obtiene un árbol de decisión completo, donde los nodos representan variables predictoras y las ramas representan las categorías en las que se dividen los datos.\n",
        "\n",
        "8. **Poda del árbol (opcional):**\n",
        "   En algunos casos, el árbol puede ser demasiado complejo. La poda es un proceso opcional que implica eliminar nodos innecesarios o no significativos para simplificar el árbol.\n",
        "\n",
        "8. **Interpretación del árbol**\n",
        "   El árbol de decisión resultante se puede interpretar para comprender las relaciones entre las variables predictoras y la variable objetivo. Esto puede ayudar en la toma de decisiones basadas en datos y en la identificación de patrones en los datos.\n",
        "   \n",
        "En resumen, el algoritmo CHAID es una técnica de análisis de árboles de decisión que se enfoca en identificar relaciones entre variables categóricas y la variable objetivo mediante pruebas chi-cuadrado. Se utiliza para segmentar y comprender datos en términos de estas relaciones, lo que puede ser valioso en el análisis exploratorio de datos y la toma de decisiones.\n"
      ],
      "metadata": {
        "id": "iC-b8mg2jkHs"
      }
    },
    {
      "cell_type": "markdown",
      "source": [
        "## Supuestos y Restricciones"
      ],
      "metadata": {
        "id": "KpFoO6zjkals"
      }
    },
    {
      "cell_type": "markdown",
      "source": [
        "Prompt ChatGPT: *dame los supuestos y restricciones para  el algoritmo de CHAID*"
      ],
      "metadata": {
        "id": "IlH0wThLxxic"
      }
    },
    {
      "cell_type": "markdown",
      "source": [
        "El algoritmo de Locally Weighted Learning (LWL) se basa en ciertos supuestos y puede tener algunas restricciones que es importante considerar al utilizarlo. Aquí están los supuestos comunes y las restricciones asociadas con el algoritmo LWL:\n",
        "\n",
        "**Supuestos:**\n",
        "\n",
        "1. **Variables Categóricas:** CHAID está diseñado para trabajar con variables categóricas tanto para la variable objetivo como para las variables predictoras. No es adecuado para datos numéricos continuos. Si tiene datos numéricos, generalmente se requiere discretizarlos previamente en categorías.\n",
        "\n",
        "2. **Independencia de las Observaciones:** CHAID asume que las observaciones son independientes entre sí. Esto significa que las observaciones en su conjunto de datos no deben estar correlacionadas ni depender de otras observaciones. Si los datos tienen una estructura de dependencia, CHAID podría proporcionar resultados sesgados.\n",
        "\n",
        "**Restricciones:**\n",
        "\n",
        "1. **Variables Categóricas:** Como se mencionó anteriormente, CHAID se aplica mejor a conjuntos de datos con variables categóricas. No es apropiado para datos con variables predictoras continuas o datos mixtos que incluyen variables continuas y categóricas.\n",
        "\n",
        "2. **Cuantificación de Categorías:** CHAID no maneja directamente el orden o la magnitud de las categorías dentro de una variable categórica. Trata a todas las categorías como igualmente importantes en términos de división, lo que podría no ser apropiado en ciertos casos.\n",
        "\n",
        "3. **Sensibilidad a la Muestra:** Los resultados de CHAID pueden variar dependiendo del tamaño de la muestra y la configuración de datos. En conjuntos de datos pequeños, los resultados pueden ser menos confiables y más susceptibles al ruido.\n",
        "\n",
        "4. **Sensibilidad a la Profundidad del Árbol:** CHAID puede generar árboles de decisión con múltiples niveles, lo que podría llevar a sobreajuste (overfitting). Es importante aplicar criterios de poda o establecer reglas de detención para evitar árboles excesivamente complejos.\n",
        "\n",
        "5. **Interpretación de Resultados:** A medida que se crean árboles de decisión con múltiples divisiones, la interpretación de resultados puede volverse complicada, especialmente cuando se tienen muchos niveles en el árbol.\n",
        "\n",
        "6. **No considera relaciones no lineales continuas:** CHAID se enfoca en identificar relaciones entre variables categóricas y una variable objetivo categórica. No es adecuado para capturar relaciones no lineales entre variables continuas.\n",
        "\n",
        "7. **Dependencia de la Elección de Variables:** Los resultados de CHAID pueden depender en gran medida de qué variables predictoras se seleccionen y en qué orden se apliquen las pruebas de chi-cuadrado. Esto puede dar como resultado diferentes árboles y conclusiones.\n",
        "\n",
        "En general, CHAID es una herramienta útil para el análisis exploratorio de datos cuando se cumplen sus supuestos y restricciones. Sin embargo, es importante comprender sus limitaciones y considerar alternativas si los datos no se ajustan a sus supuestos o si se necesitan modelos más complejos para abordar relaciones no lineales o datos mixtos."
      ],
      "metadata": {
        "id": "EyOIEZ9skett"
      }
    },
    {
      "cell_type": "markdown",
      "source": [
        "## Ejemplo en python"
      ],
      "metadata": {
        "id": "Q9i7DEJRsock"
      }
    },
    {
      "cell_type": "code",
      "source": [
        "!pip install chefboost"
      ],
      "metadata": {
        "colab": {
          "base_uri": "https://localhost:8080/"
        },
        "id": "ZPZKMFBEMxmk",
        "outputId": "6480d8bf-82ee-4da2-fd9d-2be765859d7b"
      },
      "execution_count": 16,
      "outputs": [
        {
          "output_type": "stream",
          "name": "stdout",
          "text": [
            "Collecting chefboost\n",
            "  Downloading chefboost-0.0.17-py3-none-any.whl (26 kB)\n",
            "Requirement already satisfied: pandas>=0.22.0 in /usr/local/lib/python3.10/dist-packages (from chefboost) (1.5.3)\n",
            "Requirement already satisfied: numpy>=1.14.0 in /usr/local/lib/python3.10/dist-packages (from chefboost) (1.23.5)\n",
            "Requirement already satisfied: tqdm>=4.30.0 in /usr/local/lib/python3.10/dist-packages (from chefboost) (4.66.1)\n",
            "Requirement already satisfied: psutil>=5.4.3 in /usr/local/lib/python3.10/dist-packages (from chefboost) (5.9.5)\n",
            "Requirement already satisfied: python-dateutil>=2.8.1 in /usr/local/lib/python3.10/dist-packages (from pandas>=0.22.0->chefboost) (2.8.2)\n",
            "Requirement already satisfied: pytz>=2020.1 in /usr/local/lib/python3.10/dist-packages (from pandas>=0.22.0->chefboost) (2023.3.post1)\n",
            "Requirement already satisfied: six>=1.5 in /usr/local/lib/python3.10/dist-packages (from python-dateutil>=2.8.1->pandas>=0.22.0->chefboost) (1.16.0)\n",
            "Installing collected packages: chefboost\n",
            "Successfully installed chefboost-0.0.17\n"
          ]
        }
      ]
    },
    {
      "cell_type": "code",
      "source": [
        "from chefboost import Chefboost as cb\n",
        "import pandas as pd"
      ],
      "metadata": {
        "id": "S2I2rNgCMi5k"
      },
      "execution_count": 17,
      "outputs": []
    },
    {
      "cell_type": "code",
      "source": [
        "df = pd.read_csv(\"golf.txt\")"
      ],
      "metadata": {
        "id": "wN_zxAJrNRp0"
      },
      "execution_count": 19,
      "outputs": []
    },
    {
      "cell_type": "code",
      "source": [
        "df.head()"
      ],
      "metadata": {
        "colab": {
          "base_uri": "https://localhost:8080/",
          "height": 206
        },
        "id": "E3rtdAg1OFBM",
        "outputId": "ff4bed1c-8fa8-4ea2-c974-a1febe3d6163"
      },
      "execution_count": null,
      "outputs": [
        {
          "output_type": "execute_result",
          "data": {
            "text/plain": [
              "    Outlook Temp. Humidity    Wind Decision\n",
              "0     Sunny   Hot     High    Weak       No\n",
              "1     Sunny   Hot     High  Strong       No\n",
              "2  Overcast   Hot     High    Weak      Yes\n",
              "3      Rain  Mild     High    Weak      Yes\n",
              "4      Rain  Cool   Normal    Weak      Yes"
            ],
            "text/html": [
              "\n",
              "  <div id=\"df-54a8f600-fe50-489a-8e28-3086bbd42275\" class=\"colab-df-container\">\n",
              "    <div>\n",
              "<style scoped>\n",
              "    .dataframe tbody tr th:only-of-type {\n",
              "        vertical-align: middle;\n",
              "    }\n",
              "\n",
              "    .dataframe tbody tr th {\n",
              "        vertical-align: top;\n",
              "    }\n",
              "\n",
              "    .dataframe thead th {\n",
              "        text-align: right;\n",
              "    }\n",
              "</style>\n",
              "<table border=\"1\" class=\"dataframe\">\n",
              "  <thead>\n",
              "    <tr style=\"text-align: right;\">\n",
              "      <th></th>\n",
              "      <th>Outlook</th>\n",
              "      <th>Temp.</th>\n",
              "      <th>Humidity</th>\n",
              "      <th>Wind</th>\n",
              "      <th>Decision</th>\n",
              "    </tr>\n",
              "  </thead>\n",
              "  <tbody>\n",
              "    <tr>\n",
              "      <th>0</th>\n",
              "      <td>Sunny</td>\n",
              "      <td>Hot</td>\n",
              "      <td>High</td>\n",
              "      <td>Weak</td>\n",
              "      <td>No</td>\n",
              "    </tr>\n",
              "    <tr>\n",
              "      <th>1</th>\n",
              "      <td>Sunny</td>\n",
              "      <td>Hot</td>\n",
              "      <td>High</td>\n",
              "      <td>Strong</td>\n",
              "      <td>No</td>\n",
              "    </tr>\n",
              "    <tr>\n",
              "      <th>2</th>\n",
              "      <td>Overcast</td>\n",
              "      <td>Hot</td>\n",
              "      <td>High</td>\n",
              "      <td>Weak</td>\n",
              "      <td>Yes</td>\n",
              "    </tr>\n",
              "    <tr>\n",
              "      <th>3</th>\n",
              "      <td>Rain</td>\n",
              "      <td>Mild</td>\n",
              "      <td>High</td>\n",
              "      <td>Weak</td>\n",
              "      <td>Yes</td>\n",
              "    </tr>\n",
              "    <tr>\n",
              "      <th>4</th>\n",
              "      <td>Rain</td>\n",
              "      <td>Cool</td>\n",
              "      <td>Normal</td>\n",
              "      <td>Weak</td>\n",
              "      <td>Yes</td>\n",
              "    </tr>\n",
              "  </tbody>\n",
              "</table>\n",
              "</div>\n",
              "    <div class=\"colab-df-buttons\">\n",
              "\n",
              "  <div class=\"colab-df-container\">\n",
              "    <button class=\"colab-df-convert\" onclick=\"convertToInteractive('df-54a8f600-fe50-489a-8e28-3086bbd42275')\"\n",
              "            title=\"Convert this dataframe to an interactive table.\"\n",
              "            style=\"display:none;\">\n",
              "\n",
              "  <svg xmlns=\"http://www.w3.org/2000/svg\" height=\"24px\" viewBox=\"0 -960 960 960\">\n",
              "    <path d=\"M120-120v-720h720v720H120Zm60-500h600v-160H180v160Zm220 220h160v-160H400v160Zm0 220h160v-160H400v160ZM180-400h160v-160H180v160Zm440 0h160v-160H620v160ZM180-180h160v-160H180v160Zm440 0h160v-160H620v160Z\"/>\n",
              "  </svg>\n",
              "    </button>\n",
              "\n",
              "  <style>\n",
              "    .colab-df-container {\n",
              "      display:flex;\n",
              "      gap: 12px;\n",
              "    }\n",
              "\n",
              "    .colab-df-convert {\n",
              "      background-color: #E8F0FE;\n",
              "      border: none;\n",
              "      border-radius: 50%;\n",
              "      cursor: pointer;\n",
              "      display: none;\n",
              "      fill: #1967D2;\n",
              "      height: 32px;\n",
              "      padding: 0 0 0 0;\n",
              "      width: 32px;\n",
              "    }\n",
              "\n",
              "    .colab-df-convert:hover {\n",
              "      background-color: #E2EBFA;\n",
              "      box-shadow: 0px 1px 2px rgba(60, 64, 67, 0.3), 0px 1px 3px 1px rgba(60, 64, 67, 0.15);\n",
              "      fill: #174EA6;\n",
              "    }\n",
              "\n",
              "    .colab-df-buttons div {\n",
              "      margin-bottom: 4px;\n",
              "    }\n",
              "\n",
              "    [theme=dark] .colab-df-convert {\n",
              "      background-color: #3B4455;\n",
              "      fill: #D2E3FC;\n",
              "    }\n",
              "\n",
              "    [theme=dark] .colab-df-convert:hover {\n",
              "      background-color: #434B5C;\n",
              "      box-shadow: 0px 1px 3px 1px rgba(0, 0, 0, 0.15);\n",
              "      filter: drop-shadow(0px 1px 2px rgba(0, 0, 0, 0.3));\n",
              "      fill: #FFFFFF;\n",
              "    }\n",
              "  </style>\n",
              "\n",
              "    <script>\n",
              "      const buttonEl =\n",
              "        document.querySelector('#df-54a8f600-fe50-489a-8e28-3086bbd42275 button.colab-df-convert');\n",
              "      buttonEl.style.display =\n",
              "        google.colab.kernel.accessAllowed ? 'block' : 'none';\n",
              "\n",
              "      async function convertToInteractive(key) {\n",
              "        const element = document.querySelector('#df-54a8f600-fe50-489a-8e28-3086bbd42275');\n",
              "        const dataTable =\n",
              "          await google.colab.kernel.invokeFunction('convertToInteractive',\n",
              "                                                    [key], {});\n",
              "        if (!dataTable) return;\n",
              "\n",
              "        const docLinkHtml = 'Like what you see? Visit the ' +\n",
              "          '<a target=\"_blank\" href=https://colab.research.google.com/notebooks/data_table.ipynb>data table notebook</a>'\n",
              "          + ' to learn more about interactive tables.';\n",
              "        element.innerHTML = '';\n",
              "        dataTable['output_type'] = 'display_data';\n",
              "        await google.colab.output.renderOutput(dataTable, element);\n",
              "        const docLink = document.createElement('div');\n",
              "        docLink.innerHTML = docLinkHtml;\n",
              "        element.appendChild(docLink);\n",
              "      }\n",
              "    </script>\n",
              "  </div>\n",
              "\n",
              "\n",
              "<div id=\"df-45ea436a-3aa9-4916-83a5-94695eb78704\">\n",
              "  <button class=\"colab-df-quickchart\" onclick=\"quickchart('df-45ea436a-3aa9-4916-83a5-94695eb78704')\"\n",
              "            title=\"Suggest charts.\"\n",
              "            style=\"display:none;\">\n",
              "\n",
              "<svg xmlns=\"http://www.w3.org/2000/svg\" height=\"24px\"viewBox=\"0 0 24 24\"\n",
              "     width=\"24px\">\n",
              "    <g>\n",
              "        <path d=\"M19 3H5c-1.1 0-2 .9-2 2v14c0 1.1.9 2 2 2h14c1.1 0 2-.9 2-2V5c0-1.1-.9-2-2-2zM9 17H7v-7h2v7zm4 0h-2V7h2v10zm4 0h-2v-4h2v4z\"/>\n",
              "    </g>\n",
              "</svg>\n",
              "  </button>\n",
              "\n",
              "<style>\n",
              "  .colab-df-quickchart {\n",
              "      --bg-color: #E8F0FE;\n",
              "      --fill-color: #1967D2;\n",
              "      --hover-bg-color: #E2EBFA;\n",
              "      --hover-fill-color: #174EA6;\n",
              "      --disabled-fill-color: #AAA;\n",
              "      --disabled-bg-color: #DDD;\n",
              "  }\n",
              "\n",
              "  [theme=dark] .colab-df-quickchart {\n",
              "      --bg-color: #3B4455;\n",
              "      --fill-color: #D2E3FC;\n",
              "      --hover-bg-color: #434B5C;\n",
              "      --hover-fill-color: #FFFFFF;\n",
              "      --disabled-bg-color: #3B4455;\n",
              "      --disabled-fill-color: #666;\n",
              "  }\n",
              "\n",
              "  .colab-df-quickchart {\n",
              "    background-color: var(--bg-color);\n",
              "    border: none;\n",
              "    border-radius: 50%;\n",
              "    cursor: pointer;\n",
              "    display: none;\n",
              "    fill: var(--fill-color);\n",
              "    height: 32px;\n",
              "    padding: 0;\n",
              "    width: 32px;\n",
              "  }\n",
              "\n",
              "  .colab-df-quickchart:hover {\n",
              "    background-color: var(--hover-bg-color);\n",
              "    box-shadow: 0 1px 2px rgba(60, 64, 67, 0.3), 0 1px 3px 1px rgba(60, 64, 67, 0.15);\n",
              "    fill: var(--button-hover-fill-color);\n",
              "  }\n",
              "\n",
              "  .colab-df-quickchart-complete:disabled,\n",
              "  .colab-df-quickchart-complete:disabled:hover {\n",
              "    background-color: var(--disabled-bg-color);\n",
              "    fill: var(--disabled-fill-color);\n",
              "    box-shadow: none;\n",
              "  }\n",
              "\n",
              "  .colab-df-spinner {\n",
              "    border: 2px solid var(--fill-color);\n",
              "    border-color: transparent;\n",
              "    border-bottom-color: var(--fill-color);\n",
              "    animation:\n",
              "      spin 1s steps(1) infinite;\n",
              "  }\n",
              "\n",
              "  @keyframes spin {\n",
              "    0% {\n",
              "      border-color: transparent;\n",
              "      border-bottom-color: var(--fill-color);\n",
              "      border-left-color: var(--fill-color);\n",
              "    }\n",
              "    20% {\n",
              "      border-color: transparent;\n",
              "      border-left-color: var(--fill-color);\n",
              "      border-top-color: var(--fill-color);\n",
              "    }\n",
              "    30% {\n",
              "      border-color: transparent;\n",
              "      border-left-color: var(--fill-color);\n",
              "      border-top-color: var(--fill-color);\n",
              "      border-right-color: var(--fill-color);\n",
              "    }\n",
              "    40% {\n",
              "      border-color: transparent;\n",
              "      border-right-color: var(--fill-color);\n",
              "      border-top-color: var(--fill-color);\n",
              "    }\n",
              "    60% {\n",
              "      border-color: transparent;\n",
              "      border-right-color: var(--fill-color);\n",
              "    }\n",
              "    80% {\n",
              "      border-color: transparent;\n",
              "      border-right-color: var(--fill-color);\n",
              "      border-bottom-color: var(--fill-color);\n",
              "    }\n",
              "    90% {\n",
              "      border-color: transparent;\n",
              "      border-bottom-color: var(--fill-color);\n",
              "    }\n",
              "  }\n",
              "</style>\n",
              "\n",
              "  <script>\n",
              "    async function quickchart(key) {\n",
              "      const quickchartButtonEl =\n",
              "        document.querySelector('#' + key + ' button');\n",
              "      quickchartButtonEl.disabled = true;  // To prevent multiple clicks.\n",
              "      quickchartButtonEl.classList.add('colab-df-spinner');\n",
              "      try {\n",
              "        const charts = await google.colab.kernel.invokeFunction(\n",
              "            'suggestCharts', [key], {});\n",
              "      } catch (error) {\n",
              "        console.error('Error during call to suggestCharts:', error);\n",
              "      }\n",
              "      quickchartButtonEl.classList.remove('colab-df-spinner');\n",
              "      quickchartButtonEl.classList.add('colab-df-quickchart-complete');\n",
              "    }\n",
              "    (() => {\n",
              "      let quickchartButtonEl =\n",
              "        document.querySelector('#df-45ea436a-3aa9-4916-83a5-94695eb78704 button');\n",
              "      quickchartButtonEl.style.display =\n",
              "        google.colab.kernel.accessAllowed ? 'block' : 'none';\n",
              "    })();\n",
              "  </script>\n",
              "</div>\n",
              "    </div>\n",
              "  </div>\n"
            ]
          },
          "metadata": {},
          "execution_count": 17
        }
      ]
    },
    {
      "cell_type": "code",
      "source": [
        "config = {'algorithm':'CHAID'}"
      ],
      "metadata": {
        "id": "uuv6lIygOLH1"
      },
      "execution_count": 20,
      "outputs": []
    },
    {
      "cell_type": "code",
      "source": [
        "tree=cb.fit(df,config)"
      ],
      "metadata": {
        "colab": {
          "base_uri": "https://localhost:8080/"
        },
        "id": "HXAjnsp3OanV",
        "outputId": "7d9ed0a7-e171-4291-d1c9-a863933cefa8"
      },
      "execution_count": 21,
      "outputs": [
        {
          "output_type": "stream",
          "name": "stdout",
          "text": [
            "[INFO]:  1 CPU cores will be allocated in parallel running\n",
            "CHAID  tree is going to be built...\n",
            "-------------------------\n",
            "finished in  0.5523731708526611  seconds\n",
            "-------------------------\n",
            "Evaluate  train set\n",
            "-------------------------\n",
            "Accuracy:  100.0 % on  14  instances\n",
            "Labels:  ['No' 'Yes']\n",
            "Confusion matrix:  [[5, 0], [0, 9]]\n",
            "Precision:  100.0 %, Recall:  100.0 %, F1:  100.0 %\n"
          ]
        }
      ]
    },
    {
      "cell_type": "code",
      "source": [
        "#test_instance = ['Sunny', 'Hot', 'High', 'Weak']\n",
        "test_instance = df.iloc[2]"
      ],
      "metadata": {
        "id": "rUZ0AZjSO9OF"
      },
      "execution_count": 22,
      "outputs": []
    },
    {
      "cell_type": "code",
      "source": [
        "test_instance"
      ],
      "metadata": {
        "colab": {
          "base_uri": "https://localhost:8080/"
        },
        "id": "ldJaQeJrQCe8",
        "outputId": "68522dd6-6744-4722-9f9a-a247387b91d3"
      },
      "execution_count": 23,
      "outputs": [
        {
          "output_type": "execute_result",
          "data": {
            "text/plain": [
              "Outlook     Overcast\n",
              "Temp.            Hot\n",
              "Humidity        High\n",
              "Wind            Weak\n",
              "Decision         Yes\n",
              "Name: 2, dtype: object"
            ]
          },
          "metadata": {},
          "execution_count": 23
        }
      ]
    },
    {
      "cell_type": "code",
      "source": [
        "cb.predict(tree, test_instance)"
      ],
      "metadata": {
        "colab": {
          "base_uri": "https://localhost:8080/",
          "height": 36
        },
        "id": "RcYbI28NO2Gl",
        "outputId": "3af13ab7-3291-405c-b79a-29b606e69d0f"
      },
      "execution_count": 24,
      "outputs": [
        {
          "output_type": "execute_result",
          "data": {
            "text/plain": [
              "'Yes'"
            ],
            "application/vnd.google.colaboratory.intrinsic+json": {
              "type": "string"
            }
          },
          "metadata": {},
          "execution_count": 24
        }
      ]
    }
  ]
}