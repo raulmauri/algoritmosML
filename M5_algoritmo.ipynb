{
  "nbformat": 4,
  "nbformat_minor": 0,
  "metadata": {
    "colab": {
      "provenance": []
    },
    "kernelspec": {
      "name": "python3",
      "display_name": "Python 3"
    },
    "language_info": {
      "name": "python"
    }
  },
  "cells": [
    {
      "cell_type": "markdown",
      "source": [
        "## Decision Tree Algorithms M5"
      ],
      "metadata": {
        "id": "8AYnDBKL2w9y"
      }
    },
    {
      "cell_type": "markdown",
      "source": [
        "# Descripción"
      ],
      "metadata": {
        "id": "4zF3nKR824JZ"
      }
    },
    {
      "cell_type": "markdown",
      "source": [
        "Prompt ChatGPT: *describe el algoritmo ML M5*"
      ],
      "metadata": {
        "id": "x2jMJzoB28hR"
      }
    },
    {
      "cell_type": "markdown",
      "source": [],
      "metadata": {
        "id": "rgQqi3f-28Vw"
      }
    },
    {
      "cell_type": "markdown",
      "source": [
        "El algoritmo M5 es un enfoque de regresión basado en árboles desarrollado por Ross Quinlan que extiende el algoritmo C4.5, que a su vez es una extensión del algoritmo ID3. M5 se utiliza principalmente para problemas de regresión, lo que significa que se utiliza para predecir valores numéricos en lugar de clasificar instancias en categorías discretas.\n",
        "\n",
        "A continuación, describo cómo funciona el algoritmo M5:\n",
        "\n",
        "1. **Construcción del árbol de regresión:**\n",
        "\n",
        "*   Al igual que en C4.5, M5 comienza construyendo un árbol de decisión a partir de un conjunto de datos de entrenamiento.\n",
        "*   M5 utiliza una técnica de partición recursiva para dividir el conjunto de datos en subconjuntos más pequeños en cada nodo del árbol. A diferencia de C4.5, que utiliza medidas como la ganancia de información o la impureza Gini para la clasificación, M5 utiliza la reducción en la desviación estándar como medida de calidad para elegir las divisiones.\n",
        "\n",
        "2. **Selección de atributos:**\n",
        "\n",
        "*   M5 utiliza un enfoque de eliminación de atributos para seleccionar qué atributos son relevantes para la regresión. En cada nodo del árbol, evalúa si la inclusión de un atributo mejora la precisión de la predicción y, de ser así, lo incluye en el modelo.\n",
        "\n",
        "3. **Manejo de nodos hoja:**\n",
        "\n",
        "*   A diferencia de los árboles de decisión de clasificación, donde los nodos hoja representan una categoría, en M5, los nodos hoja contienen modelos de regresión lineal que predicen valores numéricos.\n",
        "*   Estos modelos de regresión lineal son específicos para cada nodo hoja y se calculan utilizando los datos de entrenamiento en ese nodo.\n",
        "\n",
        "4. **Podado del árbol (opcional):**\n",
        "\n",
        "*   Al igual que en otros algoritmos de árboles de decisión, es posible aplicar técnicas de poda al árbol de regresión de M5 para evitar el sobreajuste y mejorar la generalización.\n",
        "\n",
        "5. **Predicciones:**\n",
        "\n",
        "*   Una vez construido el árbol de regresión, se pueden realizar predicciones para valores numéricos. Dado un nuevo conjunto de características, el algoritmo sigue las ramas del árbol hasta llegar a un nodo hoja, donde se aplica el modelo de regresión lineal correspondiente para predecir el valor numérico.\n",
        "\n",
        "En resumen, el algoritmo M5 es una extensión de los árboles de decisión diseñada específicamente para problemas de regresión. A diferencia de los árboles de decisión de clasificación, que predicen categorías discretas, M5 predice valores numéricos. Utiliza medidas de reducción en la desviación estándar para construir el árbol y seleccionar los atributos relevantes, y los nodos hoja contienen modelos de regresión lineal para hacer las predicciones finales. El algoritmo M5 es conocido por su capacidad de generar modelos de regresión interpretables."
      ],
      "metadata": {
        "id": "WooY2NkE2tmC"
      }
    },
    {
      "cell_type": "markdown",
      "source": [
        "# Bibtex y Referencias"
      ],
      "metadata": {
        "id": "Zba7Fl-q33Vx"
      }
    },
    {
      "cell_type": "markdown",
      "source": [
        "\n",
        "Paper: https://ascelibrary.org/doi/10.1061/%28ASCE%29HE.1943-5584.0000445\n",
        "\n",
        "A. R. Senthil Kumar and Chandra Shekhar Prasad Ojha and Manish Kumar Goyal and R. D. Singh and Prabhata K. Swamee\n",
        "\n",
        "@article{Kumar2012ModelingOS,\n",
        "  title={Modeling of Suspended Sediment Concentration at Kasol in India Using ANN, Fuzzy Logic, and Decision Tree Algorithms},\n",
        "  author={A. R. Senthil Kumar and Chandra Shekhar Prasad Ojha and Manish Kumar Goyal and R. D. Singh and Prabhata K. Swamee},\n",
        "  journal={Journal of Hydrologic Engineering},\n",
        "  year={2012},\n",
        "  volume={17},\n",
        "  pages={394-404},\n",
        "  url={https://api.semanticscholar.org/CorpusID:131495800}\n",
        "}"
      ],
      "metadata": {
        "id": "H11q59PQ-6Nc"
      }
    },
    {
      "cell_type": "markdown",
      "source": [
        "##Tipo de modelo"
      ],
      "metadata": {
        "id": "q88eyDYm341Z"
      }
    },
    {
      "cell_type": "markdown",
      "source": [
        "**Segun el Tipo de aprendizaje:**\n",
        "\n",
        " *Supervisado*  *No Supervisado*\n",
        "\n",
        "**Segun la Asuncion y parametros en entrenamiento:**\n",
        "\n",
        "*No parametrico*\n",
        "\n",
        "**Segun el Tipo de datos al entranar:**\n",
        "\n",
        "*Offline (batches)*\n",
        "\n",
        "**Resultado de entrenamiento:**\n",
        "\n",
        "*Basado en instancia*"
      ],
      "metadata": {
        "id": "4Sz5nQkF3-7o"
      }
    },
    {
      "cell_type": "markdown",
      "source": [
        "# Algoritmos de entrenamiento"
      ],
      "metadata": {
        "id": "obFvlyuK4ABP"
      }
    },
    {
      "cell_type": "markdown",
      "source": [
        "Prompt ChatGPT: *describe el algoritmo entrenamiento M5**"
      ],
      "metadata": {
        "id": "kX4INb8X4HAP"
      }
    },
    {
      "cell_type": "markdown",
      "source": [
        "El algoritmo M5, desarrollado por Ross Quinlan, es un enfoque de regresión basado en árboles de decisión. A diferencia de los algoritmos de clasificación que se utilizan para predecir categorías discretas, M5 se utiliza para predecir valores numéricos en problemas de regresión. A continuación, se describe el proceso de entrenamiento del algoritmo M5:\n",
        "\n",
        "1. **Conjunto de Datos de Entrenamiento:**\n",
        "\n",
        "*  El proceso de entrenamiento comienza con un conjunto de datos de entrenamiento que consta de ejemplos de entrada (características) y sus valores de salida correspondientes (etiquetas numéricas).\n",
        "\n",
        "2. **Construcción del Árbol de Regresión:**\n",
        "\n",
        "*  M5 construye un árbol de regresión de manera similar a cómo se construyen los árboles de decisión de clasificación, como C4.5 o CART.\n",
        "*  Inicialmente, se toma todo el conjunto de datos de entrenamiento en el nodo raíz del árbol.\n",
        "\n",
        "3. **Selección de Atributos Relevantes:**\n",
        "\n",
        "*  En cada nodo del árbol, M5 evalúa qué atributo (característica) es el mejor para dividir el conjunto de datos en subconjuntos más pequeños. Dado que es un algoritmo de regresión, la medida de calidad utilizada para la selección se basa en la reducción de la desviación estándar.\n",
        "*  M5 utiliza una técnica de eliminación de atributos para seleccionar los atributos más relevantes para la regresión.\n",
        "\n",
        "4. **Creación de Nodos Hoja con Modelos de Regresión:**\n",
        "\n",
        "*  A diferencia de los árboles de decisión de clasificación, donde los nodos hoja representan categorías, en M5, los nodos hoja contienen modelos de regresión lineal. Cada nodo hoja se ajusta a un modelo de regresión lineal específico utilizando los datos de entrenamiento en ese nodo.\n",
        "*  Los modelos de regresión lineal se utilizan para predecir valores numéricos.\n",
        "\n",
        "5. **Podado del Árbol (Opcional):**\n",
        "\n",
        "*  Al igual que en otros algoritmos de árboles de decisión, M5 permite aplicar técnicas de poda para evitar el sobreajuste y mejorar la generalización del modelo.\n",
        "\n",
        "6. **Predicciones:**\n",
        "\n",
        "*  Una vez que se ha construido el árbol de regresión, se pueden realizar predicciones para valores numéricos. Para una nueva instancia de entrada, el algoritmo sigue las ramas del árbol hasta llegar a un nodo hoja. En el nodo hoja, se aplica el modelo de regresión lineal correspondiente para predecir el valor numérico.\n",
        "\n",
        "7. **Evaluación y Ajuste (Opcional):**\n",
        "\n",
        "*  Después del entrenamiento, se evalúa el rendimiento del modelo utilizando un conjunto de datos de prueba o técnicas de validación cruzada.\n",
        "*  Es posible ajustar los hiperparámetros del modelo, como la profundidad máxima del árbol, para obtener un mejor rendimiento en el conjunto de prueba.\n",
        "\n",
        "En resumen, el proceso de entrenamiento del algoritmo M5 implica la construcción de un árbol de regresión basado en la reducción de la desviación estándar como medida de calidad. Los nodos hoja contienen modelos de regresión lineal que se utilizan para hacer predicciones numéricas. Este algoritmo es útil cuando se necesita predecir valores numéricos en lugar de categorías discretas."
      ],
      "metadata": {
        "id": "eKhZJwPA4V2B"
      }
    },
    {
      "cell_type": "markdown",
      "source": [
        "## Supuestos y Restricciones"
      ],
      "metadata": {
        "id": "I-XteTB95WdZ"
      }
    },
    {
      "cell_type": "markdown",
      "source": [
        "El algoritmo M5 es una variante de árboles de regresión que se utiliza para predecir valores numéricos en problemas de regresión. Al igual que otros algoritmos de aprendizaje automático, M5 tiene supuestos y restricciones que deben tenerse en cuenta al aplicarlo a un problema específico. A continuación, se detallan algunos de los supuestos y restricciones asociados con el algoritmo M5:\n",
        "\n",
        "**Supuestos:**\n",
        "\n",
        "1. **Linealidad Local (en nodos hoja):** M5 asume que en cada nodo hoja del árbol, los datos siguen una relación lineal. Esto significa que se supone que los modelos de regresión lineal que se ajustan en los nodos hoja son apropiados para describir la relación entre las características y la variable de respuesta dentro de esa región del espacio de características.\n",
        "\n",
        "2. **Independencia de Atributos:** M5 asume que los atributos (características) son independientes entre sí o que la interacción entre atributos es débil. Esto puede no ser válido en problemas donde los atributos están altamente correlacionados.\n",
        "\n",
        "3. **Uniformidad de los Datos:** M5 funciona mejor cuando los datos son relativamente uniformes y siguen patrones similares en todo el espacio de características. Problemas con estructuras de datos complejas o no uniformes pueden resultar en un rendimiento subóptimo.\n",
        "\n",
        "**Restricciones:**\n",
        "\n",
        "1. **Sensibilidad al Ruido:** M5 puede ser sensible al ruido en los datos. Puntos de datos atípicos o errores de medición pueden influir en las divisiones del árbol y, en última instancia, afectar la calidad del modelo de regresión en los nodos hoja.\n",
        "\n",
        "2. **Necesidad de Datos Suficientes:** Al igual que otros algoritmos de aprendizaje automático, M5 requiere una cantidad suficiente de datos de entrenamiento para generar modelos precisos. En conjuntos de datos pequeños, el rendimiento del modelo puede verse comprometido.\n",
        "\n",
        "3. **Interpretación de Modelos Lineales:** La interpretación de modelos de regresión lineal en los nodos hoja puede ser sencilla y fácil de comprender. Sin embargo, en problemas donde la relación entre las características y la variable objetivo no es lineal, los modelos de regresión lineal pueden no capturar adecuadamente la complejidad de los datos.\n",
        "\n",
        "4. **Selección de Atributos:** La eliminación de atributos en M5 se basa en la reducción de la desviación estándar y, por lo tanto, no considera necesariamente todas las relaciones complejas entre las características y la variable objetivo.\n",
        "\n",
        "5. **Limitaciones en la Generalización:** Como con otros modelos de aprendizaje automático basados en árboles de decisión, existe el riesgo de sobreajuste si el árbol se construye con una profundidad excesiva. La poda del árbol es importante para evitar este problema.\n",
        "\n",
        "En resumen, el algoritmo M5 tiene supuestos sobre la linealidad local en los nodos hoja y la independencia de atributos, y enfrenta restricciones relacionadas con la sensibilidad al ruido, la cantidad de datos de entrenamiento y la interpretación de modelos lineales. Como con cualquier algoritmo de aprendizaje automático, es fundamental comprender estas suposiciones y restricciones al aplicar M5 a un problema específico y considerar si se ajusta bien a los datos y las necesidades del problema en cuestión."
      ],
      "metadata": {
        "id": "LpjzZgOf5Y7p"
      }
    },
    {
      "cell_type": "markdown",
      "source": [
        "## Ejemplo en python"
      ],
      "metadata": {
        "id": "aIrA122J58zq"
      }
    },
    {
      "cell_type": "code",
      "source": [
        "# Importa las bibliotecas necesarias\n",
        "from sklearn.tree import DecisionTreeRegressor\n",
        "from sklearn.model_selection import train_test_split\n",
        "from sklearn.metrics import mean_squared_error\n",
        "import numpy as np\n",
        "\n",
        "# Genera datos de ejemplo\n",
        "np.random.seed(0)\n",
        "X = np.sort(5 * np.random.rand(80, 1), axis=0)\n",
        "y = np.sin(X).ravel()\n",
        "y[::5] += 3 * (0.5 - np.random.rand(16))\n",
        "\n",
        "# Divide el conjunto de datos en entrenamiento y prueba\n",
        "X_train, X_test, y_train, y_test = train_test_split(X, y, test_size=0.2, random_state=42)\n",
        "\n",
        "# Crea un modelo de árbol de regresión\n",
        "regressor = DecisionTreeRegressor(max_depth=5)\n",
        "\n",
        "# Entrena el modelo con los datos de entrenamiento\n",
        "regressor.fit(X_train, y_train)\n",
        "\n",
        "# Realiza predicciones en el conjunto de prueba\n",
        "y_pred = regressor.predict(X_test)\n",
        "\n",
        "# Calcula el error cuadrático medio en el conjunto de prueba\n",
        "mse = mean_squared_error(y_test, y_pred)\n",
        "print(\"Error Cuadrático Medio:\", mse)\n"
      ],
      "metadata": {
        "colab": {
          "base_uri": "https://localhost:8080/"
        },
        "id": "5BHoefBS590a",
        "outputId": "dc2833c4-4a02-40c3-ff8a-f6e6df9953bd"
      },
      "execution_count": null,
      "outputs": [
        {
          "output_type": "stream",
          "name": "stdout",
          "text": [
            "Error Cuadrático Medio: 0.363724602252649\n"
          ]
        }
      ]
    },
    {
      "cell_type": "code",
      "source": [
        "import numpy as np\n",
        "import matplotlib.pyplot as plt\n",
        "from sklearn.tree import DecisionTreeRegressor\n",
        "from sklearn.model_selection import train_test_split\n",
        "\n",
        "# Genera datos de ejemplo\n",
        "np.random.seed(0)\n",
        "X = np.sort(5 * np.random.rand(80, 1), axis=0)\n",
        "y = np.sin(X).ravel()\n",
        "y[::5] += 3 * (0.5 - np.random.rand(16))\n",
        "\n",
        "# Divide el conjunto de datos en entrenamiento y prueba\n",
        "X_train, X_test, y_train, y_test = train_test_split(X, y, test_size=0.2, random_state=42)\n",
        "\n",
        "# Crea un modelo de árbol de regresión\n",
        "regressor = DecisionTreeRegressor(max_depth=5)\n",
        "\n",
        "# Entrena el modelo con los datos de entrenamiento\n",
        "regressor.fit(X_train, y_train)\n",
        "\n",
        "# Realiza predicciones en el conjunto de prueba\n",
        "y_pred = regressor.predict(X_test)\n",
        "\n",
        "# Ordena los datos para la visualización\n",
        "X_sorted = np.sort(X, axis=0)\n",
        "y_pred_sorted = regressor.predict(X_sorted)\n",
        "\n",
        "# Visualiza los resultados\n",
        "plt.figure(figsize=(10, 6))\n",
        "plt.scatter(X, y, s=20, edgecolor=\"black\", c=\"darkorange\", label=\"Datos\")\n",
        "plt.plot(X_sorted, y_pred_sorted, color=\"cornflowerblue\", linewidth=2, label=\"Árbol de Regresión\")\n",
        "plt.xlabel(\"X\")\n",
        "plt.ylabel(\"y\")\n",
        "plt.title(\"Árbol de Regresión\")\n",
        "plt.legend()\n",
        "plt.show()\n"
      ],
      "metadata": {
        "colab": {
          "base_uri": "https://localhost:8080/",
          "height": 567
        },
        "id": "QZcA1dZ86oDS",
        "outputId": "7c9d3dcf-ddd8-4676-9350-50c0e4303f88"
      },
      "execution_count": null,
      "outputs": [
        {
          "output_type": "display_data",
          "data": {
            "text/plain": [
              "<Figure size 1000x600 with 1 Axes>"
            ],
            "image/png": "[encoded data removed]"
          },
          "metadata": {}
        }
      ]
    },
    {
      "cell_type": "markdown",
      "source": [],
      "metadata": {
        "id": "WLD7lVHP5FfJ"
      }
    }
  ]
}