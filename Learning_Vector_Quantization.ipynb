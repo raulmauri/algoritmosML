{
  "nbformat": 4,
  "nbformat_minor": 0,
  "metadata": {
    "colab": {
      "provenance": []
    },
    "kernelspec": {
      "name": "python3",
      "display_name": "Python 3"
    },
    "language_info": {
      "name": "python"
    }
  },
  "cells": [
    {
      "cell_type": "markdown",
      "source": [
        "# Learning Vector Quantization"
      ],
      "metadata": {
        "id": "7WI_9pDly2cV"
      }
    },
    {
      "cell_type": "markdown",
      "source": [
        "# Descripción"
      ],
      "metadata": {
        "id": "LY5HEdJKfhi9"
      }
    },
    {
      "cell_type": "markdown",
      "source": [
        "Prompt ChatGPT: *describe el algoritmo de ML Learning Vector Quantization*"
      ],
      "metadata": {
        "id": "7AQD1D7EyDZ8"
      }
    },
    {
      "cell_type": "markdown",
      "source": [
        "El algoritmo de entrenamiento de Learning Vector Quantization (LVQ) es un proceso iterativo utilizado para ajustar los vectores de prototipos en una red LVQ. Estos vectores de prototipos representan las diferentes clases o categorías en un conjunto de datos de entrenamiento supervisado. El objetivo principal del entrenamiento LVQ es posicionar adecuadamente estos vectores de prototipos en el espacio de características para que puedan clasificar correctamente los ejemplos de entrenamiento y, posteriormente, nuevos ejemplos desconocidos. A continuación, se describe el algoritmo de entrenamiento de LVQ:\n",
        "\n",
        "1. **Inicialización de Vectores de Prototipos:**\n",
        "\n",
        "Selecciona o genera un conjunto inicial de vectores de prototipos. Cada vector de prototipo representa una clase o categoría en el problema de clasificación.\n",
        "Los vectores de prototipos pueden inicializarse aleatoriamente o utilizando alguna otra estrategia, como la elección de ejemplos de entrenamiento como prototipos iniciales.\n",
        "2. **Definición de Parámetros:**\n",
        "\n",
        "Define los parámetros clave del algoritmo, como la tasa de aprendizaje (learning rate) y el número máximo de épocas (iteraciones) de entrenamiento.\n",
        "3. **Ciclo de Entrenamiento:**\n",
        "\n",
        "Inicia un ciclo de entrenamiento que consiste en repetir los siguientes pasos hasta que se alcance el número máximo de épocas o hasta que se cumpla algún otro criterio de convergencia:\n",
        "\n",
        "3.1. **Selección de un Ejemplo de Entrenamiento Aleatorio:**\n",
        "\n",
        "Elije un ejemplo de entrenamiento al azar del conjunto de datos de entrenamiento. Este ejemplo debe incluir tanto las características de entrada como la etiqueta de clase verdadera.\n",
        "3.2. **Cálculo de Distancias:**\n",
        "\n",
        "Calcula la distancia entre el ejemplo de entrenamiento seleccionado y todos los vectores de prototipos. La distancia generalmente se calcula utilizando una métrica como la distancia euclidiana.\n",
        "3.3. **Identificación del Vector de Prototipo más Cercano:**\n",
        "\n",
        "Encuentra el vector de prototipo más cercano al ejemplo de entrenamiento en función de las distancias calculadas. Este vector de prototipo se considera el \"ganador\" o el más cercano.\n",
        "\n",
        "3.4 **Actualización de los Vectores de Prototipos:**\n",
        "\n",
        "Actualiza el vector de prototipo ganador de acuerdo con la siguiente regla:\n",
        "Si el ejemplo de entrenamiento pertenece a la misma clase que el vector de prototipo ganador, mueve el vector de prototipo más cerca del ejemplo de entrenamiento.\n",
        "Si el ejemplo de entrenamiento pertenece a una clase diferente, mueve el vector de prototipo más lejos del ejemplo de entrenamiento.\n",
        "La magnitud de la actualización se controla mediante la tasa de aprendizaje, que puede ser un valor constante o adaptarse durante el entrenamiento.\n",
        "\n",
        "4. **Finalización del Entrenamiento:**\n",
        "\n",
        "Una vez que se alcanza el número máximo de épocas o se cumple algún otro criterio de convergencia, el entrenamiento se detiene.\n",
        "5. **Clasificación de Nuevos Ejemplos:**\n",
        "\n",
        "Después del entrenamiento, los vectores de prototipos representan las clases en el espacio de características. Puedes usar estos vectores para clasificar nuevos ejemplos calculando la distancia entre el nuevo ejemplo y los vectores de prototipos y asignando el ejemplo a la clase representada por el vector de prototipo más cercano.\n",
        "\n",
        "El proceso de entrenamiento de LVQ se repite hasta que los vectores de prototipos convergen a una configuración que clasifica adecuadamente los ejemplos de entrenamiento. La elección de parámetros y la estrategia de inicialización son aspectos importantes en la efectividad del entrenamiento LVQ."
      ],
      "metadata": {
        "id": "6VmK_cz7wBHB"
      }
    },
    {
      "cell_type": "markdown",
      "source": [
        "# Bibtex y Referencias"
      ],
      "metadata": {
        "id": "lFA-FOagcmoi"
      }
    },
    {
      "cell_type": "markdown",
      "source": [
        "Paper: https://link.springer.com/article/10.1007/BF00337288\n",
        "\n",
        "Kohonen, T. (1982). Self-organized formation of topologically correct feature maps. Biological cybernetics, 43(1), 59-69.\n",
        "\n",
        "@article{kohonen1982self,\n",
        "  title={Self-organized formation of topologically correct feature maps},\n",
        "  author={Kohonen, Teuvo},\n",
        "  journal={Biological cybernetics},\n",
        "  volume={43},\n",
        "  number={1},\n",
        "  pages={59--69},\n",
        "  year={1982},\n",
        "  publisher={Springer}\n",
        "}"
      ],
      "metadata": {
        "id": "gbYMk6pTeOi9"
      }
    },
    {
      "cell_type": "markdown",
      "source": [
        "##Tipo de modelo"
      ],
      "metadata": {
        "id": "_Q6pzdvfbgyF"
      }
    },
    {
      "cell_type": "markdown",
      "source": [
        "**Segun el Tipo de aprendizaje:**\n",
        "\n",
        " *Supervisado*\n",
        "\n",
        "**Segun la Asuncion y parametros en entrenamiento:**\n",
        "\n",
        "*No parametrico*\n",
        "\n",
        "**Segun el Tipo de datos al entranar:**\n",
        "\n",
        "*Offline (batches)*\n",
        "\n",
        "**Resultado de entrenamiento:**\n",
        "\n",
        "*Basado en instancia*"
      ],
      "metadata": {
        "id": "e-Vyp3KMcLk_"
      }
    },
    {
      "cell_type": "markdown",
      "source": [
        "# Algoritmos de entrenamiento"
      ],
      "metadata": {
        "id": "1dd_2UrLcLqU"
      }
    },
    {
      "cell_type": "markdown",
      "source": [
        "Prompt ChatGPT: *describe el algoritmo de entrenamiento Learning Vector Quantization**"
      ],
      "metadata": {
        "id": "nLCWN-b4k_B0"
      }
    },
    {
      "cell_type": "markdown",
      "source": [
        "El algoritmo de entrenamiento de Learning Vector Quantization (LVQ) es un proceso iterativo utilizado para ajustar los vectores de prototipo en una red LVQ. Estos vectores de prototipo representan las diferentes clases o categorías en un conjunto de datos de entrenamiento supervisado. El objetivo principal del entrenamiento LVQ es posicionar adecuadamente estos vectores de prototipos en el espacio de características para que puedan clasificar correctamente los ejemplos de entrenamiento y, posteriormente, nuevos ejemplos desconocidos. A continuación, se describe el algoritmo de entrenamiento de LVQ:\n",
        "\n",
        "1. **Inicialización de Vectores de Prototipos:**\n",
        "\n",
        "Selecciona o genera un conjunto inicial de vectores de prototipos. Cada vector de prototipo representa una clase o categoría en el problema de clasificación.\n",
        "Los vectores de prototipos pueden inicializarse aleatoriamente o utilizando alguna otra estrategia, como la elección de ejemplos de entrenamiento como prototipos iniciales.\n",
        "2. **Definición de Parámetros:**\n",
        "\n",
        "Define los parámetros clave del algoritmo, como la tasa de aprendizaje (learning rate) y el número máximo de épocas (iteraciones) de entrenamiento.\n",
        "3. **Ciclo de Entrenamiento:**\n",
        "\n",
        "Inicia un ciclo de entrenamiento que consiste en repetir los siguientes pasos hasta que se alcance el número máximo de épocas o hasta que se cumpla algún otro criterio de convergencia.\n",
        "4. **Selección de un Ejemplo de Entrenamiento Aleatorio:**\n",
        "\n",
        "Elije un ejemplo de entrenamiento al azar del conjunto de datos de entrenamiento. Este ejemplo debe incluir tanto las características de entrada como la etiqueta de clase verdadera.\n",
        "5. **Cálculo de Distancias:**\n",
        "\n",
        "Calcula la distancia entre el ejemplo de entrenamiento seleccionado y todos los vectores de prototipos. La distancia generalmente se calcula utilizando una métrica como la distancia euclidiana.\n",
        "6. **Identificación del Vector de Prototipo más Cercano:**\n",
        "\n",
        "Encuentra el vector de prototipo más cercano al ejemplo de entrenamiento en función de las distancias calculadas. Este vector de prototipo se considera el \"ganador\" o el más cercano.\n",
        "7. **Actualización de los Vectores de Prototipos:**\n",
        "\n",
        "Actualiza el vector de prototipo ganador de acuerdo con la siguiente regla:\n",
        "Si el ejemplo de entrenamiento pertenece a la misma clase que el vector de prototipo ganador, mueve el vector de prototipo más cerca del ejemplo de entrenamiento.\n",
        "Si el ejemplo de entrenamiento pertenece a una clase diferente, mueve el vector de prototipo más lejos del ejemplo de entrenamiento.\n",
        "La magnitud de la actualización se controla mediante la tasa de aprendizaje, que puede ser un valor constante o adaptarse durante el entrenamiento.\n",
        "8. **Finalización del Entrenamiento:**\n",
        "\n",
        "Una vez que se alcanza el número máximo de épocas o se cumple algún otro criterio de convergencia, el entrenamiento se detiene.\n",
        "9. **Clasificación de Nuevos Ejemplos:**\n",
        "\n",
        "Después del entrenamiento, los vectores de prototipos representan las clases en el espacio de características. Puedes usar estos vectores para clasificar nuevos ejemplos calculando la distancia entre el nuevo ejemplo y los vectores de prototipos y asignando el ejemplo a la clase representada por el vector de prototipo más cercano.\n",
        "El proceso de entrenamiento de LVQ se repite hasta que los vectores de prototipos convergen a una configuración que clasifica adecuadamente los ejemplos de entrenamiento. La elección de parámetros y la estrategia de inicialización son aspectos importantes en la efectividad del entrenamiento LVQ."
      ],
      "metadata": {
        "id": "7t27i0yLxiji"
      }
    },
    {
      "cell_type": "markdown",
      "source": [
        "## Supuestos y Restricciones"
      ],
      "metadata": {
        "id": "KpFoO6zjkals"
      }
    },
    {
      "cell_type": "markdown",
      "source": [
        "Prompt ChatGPT: *dame los supuestos y restricciones para  el algoritmo Learning Vector Quantization*"
      ],
      "metadata": {
        "id": "IlH0wThLxxic"
      }
    },
    {
      "cell_type": "markdown",
      "source": [
        "El algoritmo Learning Vector Quantization (LVQ) es una técnica de aprendizaje supervisado que se utiliza en problemas de clasificación. Al igual que otros algoritmos, LVQ tiene ciertos supuestos y restricciones que es importante tener en cuenta al utilizarlo. A continuación, se describen los supuestos y restricciones clave asociados con LVQ:\n",
        "\n",
        "**Supuestos:**\n",
        "\n",
        "1. **Supervisión:** LVQ es un algoritmo supervisado, lo que significa que requiere un conjunto de datos de entrenamiento etiquetado en el que se conoce la clase de cada ejemplo. Este conjunto de datos supervisado se utiliza para entrenar el modelo y ajustar los vectores de prototipos.\n",
        "\n",
        "2. **Disponibilidad de Categorías o Clases Discretas:** LVQ asume que las categorías o clases en el problema de clasificación son discretas y bien definidas. Los vectores de prototipos representan estas categorías.\n",
        "\n",
        "**Restricciones:**\n",
        "\n",
        "1. **Linealidad:** LVQ es un modelo que utiliza vectores de prototipos para representar las clases. Aunque puede capturar relaciones no lineales en los datos, su capacidad para modelar relaciones complejas puede ser limitada en comparación con algunos otros algoritmos de aprendizaje automático.\n",
        "\n",
        "2. **Número de Clases Fijo:** En el momento de la inicialización, se debe especificar el número de vectores de prototipos, que generalmente se establece igual al número de clases en el problema de clasificación. Esto significa que LVQ no maneja de manera inherente problemas con un número variable de clases o problemas de clasificación en los que las clases puedan aparecer o desaparecer con el tiempo.\n",
        "\n",
        "3. **Dependencia de la Inicialización:** La configuración inicial de los vectores de prototipos puede influir en el rendimiento y la convergencia del algoritmo. Una mala inicialización podría llevar a un resultado subóptimo.\n",
        "\n",
        "4. **Sensibilidad a los Datos de Entrenamiento:** Al igual que otros algoritmos de aprendizaje automático, LVQ es sensible a la calidad de los datos de entrenamiento y puede sufrir de sobreajuste si se entrena con un conjunto de datos ruidoso o insuficiente.\n",
        "\n",
        "5. **Requiere Ajuste de Parámetros:** LVQ requiere ajuste de hiperparámetros, como la tasa de aprendizaje y el número de épocas de entrenamiento. La elección incorrecta de estos parámetros puede afectar significativamente el rendimiento del modelo.\n",
        "\n",
        "6. **Requiere Métrica de Distancia Definida:** El cálculo de distancias entre ejemplos de entrenamiento y vectores de prototipos se basa en una métrica de distancia (por ejemplo, la distancia euclidiana). Es importante elegir una métrica de distancia adecuada para el problema en cuestión.\n",
        "\n",
        "En resumen, LVQ es un algoritmo de aprendizaje supervisado que se utiliza para problemas de clasificación con clases discretas. Sus supuestos y restricciones deben ser considerados al aplicarlo en una tarea de clasificación y al ajustar sus parámetros para obtener un rendimiento óptimo."
      ],
      "metadata": {
        "id": "EyOIEZ9skett"
      }
    },
    {
      "cell_type": "markdown",
      "source": [
        "## Ejemplo en python"
      ],
      "metadata": {
        "id": "Q9i7DEJRsock"
      }
    },
    {
      "cell_type": "code",
      "source": [
        "import numpy as np\n",
        "\n",
        "# LVQ training function\n",
        "def lvq_train(X_train, y_train, num_prototypes, learning_rate, epochs):\n",
        "    # Initialize prototypes randomly from the training data\n",
        "    prototypes = X_train[np.random.choice(X_train.shape[0], num_prototypes, replace=False)]\n",
        "\n",
        "    for epoch in range(epochs):\n",
        "        for i in range(len(X_train)):\n",
        "            # Calculate distances between the current input and prototypes\n",
        "            distances = np.linalg.norm(prototypes - X_train[i], axis=1)\n",
        "\n",
        "            # Find the index of the closest prototype\n",
        "            closest_idx = np.argmin(distances)\n",
        "\n",
        "            # Update the closest prototype based on the learning rate and class label\n",
        "            if y_train[i] == closest_idx:\n",
        "                prototypes[closest_idx] += learning_rate * (X_train[i] - prototypes[closest_idx])\n",
        "            else:\n",
        "                prototypes[closest_idx] -= learning_rate * (X_train[i] - prototypes[closest_idx])\n",
        "\n",
        "    return prototypes\n",
        "\n",
        "# LVQ classification function\n",
        "def lvq_predict(X_test, prototypes):\n",
        "    # Initialize an array to store predictions\n",
        "    predictions = []\n",
        "\n",
        "    for i in range(len(X_test)):\n",
        "        # Calculate distances between the current input and prototypes\n",
        "        distances = np.linalg.norm(prototypes - X_test[i], axis=1)\n",
        "\n",
        "        # Find the index of the closest prototype, which corresponds to the predicted class\n",
        "        predicted_class = np.argmin(distances)\n",
        "\n",
        "        predictions.append(predicted_class)\n",
        "\n",
        "    return predictions\n",
        "\n",
        "# Example data (features and labels)\n",
        "X_train = np.array([[1.2, 0.8], [2.4, 1.3], [0.5, 0.2], [3.0, 2.5]])\n",
        "y_train = np.array([0, 1, 0, 1])  # Class labels\n",
        "\n",
        "# Hyperparameters\n",
        "num_prototypes = 2\n",
        "learning_rate = 0.1\n",
        "epochs = 1000\n",
        "\n",
        "# Train the LVQ model\n",
        "trained_prototypes = lvq_train(X_train, y_train, num_prototypes, learning_rate, epochs)\n",
        "\n",
        "# Example test data for classification\n",
        "X_test = np.array([[1.0, 1.0], [2.0, 1.5]])\n",
        "\n",
        "# Make predictions using the trained LVQ model\n",
        "predictions = lvq_predict(X_test, trained_prototypes)\n",
        "\n",
        "# Display the predicted classes for the test data\n",
        "for i, prediction in enumerate(predictions):\n",
        "    print(f\"Example {i + 1}: Predicted Class = {prediction}\")\n"
      ],
      "metadata": {
        "colab": {
          "base_uri": "https://localhost:8080/"
        },
        "id": "3p77aGBsuXmc",
        "outputId": "1137f0ba-cd9f-4be5-b9ac-339bbb80c969"
      },
      "execution_count": 2,
      "outputs": [
        {
          "output_type": "stream",
          "name": "stdout",
          "text": [
            "Example 1: Predicted Class = 0\n",
            "Example 2: Predicted Class = 1\n"
          ]
        }
      ]
    },
    {
      "cell_type": "code",
      "source": [
        "# OTRO EJEMPLO\n",
        "\n",
        "# LVQ for the Ionosphere Dataset\n",
        "from random import seed\n",
        "from random import randrange\n",
        "from csv import reader\n",
        "from math import sqrt\n",
        "\n",
        "# Load a CSV file\n",
        "def load_csv(filename):\n",
        "\tdataset = list()\n",
        "\twith open(filename, 'r') as file:\n",
        "\t\tcsv_reader = reader(file)\n",
        "\t\tfor row in csv_reader:\n",
        "\t\t\tif not row:\n",
        "\t\t\t\tcontinue\n",
        "\t\t\tdataset.append(row)\n",
        "\treturn dataset\n",
        "\n",
        "# Convert string column to float\n",
        "def str_column_to_float(dataset, column):\n",
        "\tfor row in dataset:\n",
        "\t\trow[column] = float(row[column].strip())\n",
        "\n",
        "# Convert string column to integer\n",
        "def str_column_to_int(dataset, column):\n",
        "\tclass_values = [row[column] for row in dataset]\n",
        "\tunique = set(class_values)\n",
        "\tlookup = dict()\n",
        "\tfor i, value in enumerate(unique):\n",
        "\t\tlookup[value] = i\n",
        "\tfor row in dataset:\n",
        "\t\trow[column] = lookup[row[column]]\n",
        "\treturn lookup\n",
        "\n",
        "# Split a dataset into k folds\n",
        "def cross_validation_split(dataset, n_folds):\n",
        "\tdataset_split = list()\n",
        "\tdataset_copy = list(dataset)\n",
        "\tfold_size = int(len(dataset) / n_folds)\n",
        "\tfor i in range(n_folds):\n",
        "\t\tfold = list()\n",
        "\t\twhile len(fold) < fold_size:\n",
        "\t\t\tindex = randrange(len(dataset_copy))\n",
        "\t\t\tfold.append(dataset_copy.pop(index))\n",
        "\t\tdataset_split.append(fold)\n",
        "\treturn dataset_split\n",
        "\n",
        "# Calculate accuracy percentage\n",
        "def accuracy_metric(actual, predicted):\n",
        "\tcorrect = 0\n",
        "\tfor i in range(len(actual)):\n",
        "\t\tif actual[i] == predicted[i]:\n",
        "\t\t\tcorrect += 1\n",
        "\treturn correct / float(len(actual)) * 100.0\n",
        "\n",
        "# Evaluate an algorithm using a cross validation split\n",
        "def evaluate_algorithm(dataset, algorithm, n_folds, *args):\n",
        "\tfolds = cross_validation_split(dataset, n_folds)\n",
        "\tscores = list()\n",
        "\tfor fold in folds:\n",
        "\t\ttrain_set = list(folds)\n",
        "\t\ttrain_set.remove(fold)\n",
        "\t\ttrain_set = sum(train_set, [])\n",
        "\t\ttest_set = list()\n",
        "\t\tfor row in fold:\n",
        "\t\t\trow_copy = list(row)\n",
        "\t\t\ttest_set.append(row_copy)\n",
        "\t\t\trow_copy[-1] = None\n",
        "\t\tpredicted = algorithm(train_set, test_set, *args)\n",
        "\t\tactual = [row[-1] for row in fold]\n",
        "\t\taccuracy = accuracy_metric(actual, predicted)\n",
        "\t\tscores.append(accuracy)\n",
        "\treturn scores\n",
        "\n",
        "# calculate the Euclidean distance between two vectors\n",
        "def euclidean_distance(row1, row2):\n",
        "\tdistance = 0.0\n",
        "\tfor i in range(len(row1)-1):\n",
        "\t\tdistance += (row1[i] - row2[i])**2\n",
        "\treturn sqrt(distance)\n",
        "\n",
        "# Locate the best matching unit\n",
        "def get_best_matching_unit(codebooks, test_row):\n",
        "\tdistances = list()\n",
        "\tfor codebook in codebooks:\n",
        "\t\tdist = euclidean_distance(codebook, test_row)\n",
        "\t\tdistances.append((codebook, dist))\n",
        "\tdistances.sort(key=lambda tup: tup[1])\n",
        "\treturn distances[0][0]\n",
        "\n",
        "# Make a prediction with codebook vectors\n",
        "def predict(codebooks, test_row):\n",
        "\tbmu = get_best_matching_unit(codebooks, test_row)\n",
        "\treturn bmu[-1]\n",
        "\n",
        "# Create a random codebook vector\n",
        "def random_codebook(train):\n",
        "\tn_records = len(train)\n",
        "\tn_features = len(train[0])\n",
        "\tcodebook = [train[randrange(n_records)][i] for i in range(n_features)]\n",
        "\treturn codebook\n",
        "\n",
        "# Train a set of codebook vectors\n",
        "def train_codebooks(train, n_codebooks, lrate, epochs):\n",
        "\tcodebooks = [random_codebook(train) for i in range(n_codebooks)]\n",
        "\tfor epoch in range(epochs):\n",
        "\t\trate = lrate * (1.0-(epoch/float(epochs)))\n",
        "\t\tfor row in train:\n",
        "\t\t\tbmu = get_best_matching_unit(codebooks, row)\n",
        "\t\t\tfor i in range(len(row)-1):\n",
        "\t\t\t\terror = row[i] - bmu[i]\n",
        "\t\t\t\tif bmu[-1] == row[-1]:\n",
        "\t\t\t\t\tbmu[i] += rate * error\n",
        "\t\t\t\telse:\n",
        "\t\t\t\t\tbmu[i] -= rate * error\n",
        "\treturn codebooks\n",
        "\n",
        "# LVQ Algorithm\n",
        "def learning_vector_quantization(train, test, n_codebooks, lrate, epochs):\n",
        "\tcodebooks = train_codebooks(train, n_codebooks, lrate, epochs)\n",
        "\tpredictions = list()\n",
        "\tfor row in test:\n",
        "\t\toutput = predict(codebooks, row)\n",
        "\t\tpredictions.append(output)\n",
        "\treturn(predictions)\n",
        "\n",
        "# Test LVQ on Ionosphere dataset\n",
        "seed(1)\n",
        "# load and prepare data\n",
        "filename = 'ionosphere.csv'\n",
        "dataset = load_csv(filename)\n",
        "for i in range(len(dataset[0])-1):\n",
        "\tstr_column_to_float(dataset, i)\n",
        "# convert class column to integers\n",
        "str_column_to_int(dataset, len(dataset[0])-1)\n",
        "# evaluate algorithm\n",
        "n_folds = 5\n",
        "learn_rate = 0.3\n",
        "n_epochs = 50\n",
        "n_codebooks = 20\n",
        "scores = evaluate_algorithm(dataset, learning_vector_quantization, n_folds, n_codebooks, learn_rate, n_epochs)\n",
        "print('Scores: %s' % scores)\n",
        "print('Mean Accuracy: %.3f%%' % (sum(scores)/float(len(scores))))\n"
      ],
      "metadata": {
        "colab": {
          "base_uri": "https://localhost:8080/"
        },
        "id": "xBEOodHWwOjd",
        "outputId": "1071d94b-8546-4552-dd66-44075f82fa20"
      },
      "execution_count": 4,
      "outputs": [
        {
          "output_type": "stream",
          "name": "stdout",
          "text": [
            "Scores: [88.57142857142857, 90.0, 88.57142857142857, 88.57142857142857, 80.0]\n",
            "Mean Accuracy: 87.143%\n"
          ]
        }
      ]
    }
  ]
}